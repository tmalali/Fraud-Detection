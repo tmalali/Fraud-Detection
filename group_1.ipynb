{
 "cells": [
  {
   "cell_type": "markdown",
   "id": "ef2abafc",
   "metadata": {},
   "source": [
    "# Mid Term Project - Group 1"
   ]
  },
  {
   "cell_type": "markdown",
   "id": "3fd883ab",
   "metadata": {},
   "source": [
    "We have two data sets train_transaction.csv and train_identity.csv . \n",
    "\n",
    "Using these training data sets our aim is to use machine learning algorithms and create a model and predict whether the transaction is fraudulant or not."
   ]
  },
  {
   "cell_type": "markdown",
   "id": "3d52f881",
   "metadata": {},
   "source": [
    "In one of the data sets (train_transaction) there is column (isFraud) which has two unique values i.e., 0 and 1 \n",
    "\n",
    "'0' represents a legit transaction \n",
    "'1' represents a fradulant transaction "
   ]
  },
  {
   "cell_type": "markdown",
   "id": "44be2ae1",
   "metadata": {},
   "source": [
    "## Objective and Performance Metric \n",
    "\n",
    "Objective: Maximize the area under ROC between predicted and given values.\n",
    "\n",
    "Performance Metric = Area under ROC curve (AUC)"
   ]
  },
  {
   "cell_type": "markdown",
   "id": "61db5fd7",
   "metadata": {},
   "source": [
    "Before we jump into creating model, first we need to perform exploratory data analysis which includes cleaning, preprocessing of the data sets given to us so it can be an ideal data set to create a model on."
   ]
  },
  {
   "cell_type": "markdown",
   "id": "42caacd6",
   "metadata": {},
   "source": [
    "## Exploratory Data Analysis"
   ]
  },
  {
   "cell_type": "code",
   "execution_count": 1,
   "id": "63786a29",
   "metadata": {},
   "outputs": [],
   "source": [
    "# Import all the dependencies/ libraries we need \n",
    "\n",
    "import pandas as pd\n",
    "import numpy as np\n",
    "import matplotlib.pyplot as plt\n",
    "import seaborn as sns\n",
    "import gc\n",
    "from sklearn.preprocessing import LabelEncoder\n",
    "from sklearn.ensemble import RandomForestClassifier\n",
    "from sklearn.metrics import roc_auc_score\n",
    "\n",
    "%matplotlib inline"
   ]
  },
  {
   "cell_type": "code",
   "execution_count": 2,
   "id": "1f2553cd",
   "metadata": {},
   "outputs": [],
   "source": [
    "#reading identity and transaction file of training data sets\n",
    "\n",
    "train_identity = pd.read_csv('train_identity.csv')\n",
    "train_transaction = pd.read_csv('train_transaction.csv')"
   ]
  },
  {
   "cell_type": "code",
   "execution_count": 3,
   "id": "4bf39416",
   "metadata": {
    "scrolled": true
   },
   "outputs": [
    {
     "data": {
      "text/html": [
       "<div>\n",
       "<style scoped>\n",
       "    .dataframe tbody tr th:only-of-type {\n",
       "        vertical-align: middle;\n",
       "    }\n",
       "\n",
       "    .dataframe tbody tr th {\n",
       "        vertical-align: top;\n",
       "    }\n",
       "\n",
       "    .dataframe thead th {\n",
       "        text-align: right;\n",
       "    }\n",
       "</style>\n",
       "<table border=\"1\" class=\"dataframe\">\n",
       "  <thead>\n",
       "    <tr style=\"text-align: right;\">\n",
       "      <th></th>\n",
       "      <th>TransactionID</th>\n",
       "      <th>id_01</th>\n",
       "      <th>id_02</th>\n",
       "      <th>id_03</th>\n",
       "      <th>id_04</th>\n",
       "      <th>id_05</th>\n",
       "      <th>id_06</th>\n",
       "      <th>id_07</th>\n",
       "      <th>id_08</th>\n",
       "      <th>id_09</th>\n",
       "      <th>...</th>\n",
       "      <th>id_31</th>\n",
       "      <th>id_32</th>\n",
       "      <th>id_33</th>\n",
       "      <th>id_34</th>\n",
       "      <th>id_35</th>\n",
       "      <th>id_36</th>\n",
       "      <th>id_37</th>\n",
       "      <th>id_38</th>\n",
       "      <th>DeviceType</th>\n",
       "      <th>DeviceInfo</th>\n",
       "    </tr>\n",
       "  </thead>\n",
       "  <tbody>\n",
       "    <tr>\n",
       "      <th>0</th>\n",
       "      <td>2987004</td>\n",
       "      <td>0.0</td>\n",
       "      <td>70787.0</td>\n",
       "      <td>NaN</td>\n",
       "      <td>NaN</td>\n",
       "      <td>NaN</td>\n",
       "      <td>NaN</td>\n",
       "      <td>NaN</td>\n",
       "      <td>NaN</td>\n",
       "      <td>NaN</td>\n",
       "      <td>...</td>\n",
       "      <td>samsung browser 6.2</td>\n",
       "      <td>32.0</td>\n",
       "      <td>2220x1080</td>\n",
       "      <td>match_status:2</td>\n",
       "      <td>T</td>\n",
       "      <td>F</td>\n",
       "      <td>T</td>\n",
       "      <td>T</td>\n",
       "      <td>mobile</td>\n",
       "      <td>SAMSUNG SM-G892A Build/NRD90M</td>\n",
       "    </tr>\n",
       "    <tr>\n",
       "      <th>1</th>\n",
       "      <td>2987008</td>\n",
       "      <td>-5.0</td>\n",
       "      <td>98945.0</td>\n",
       "      <td>NaN</td>\n",
       "      <td>NaN</td>\n",
       "      <td>0.0</td>\n",
       "      <td>-5.0</td>\n",
       "      <td>NaN</td>\n",
       "      <td>NaN</td>\n",
       "      <td>NaN</td>\n",
       "      <td>...</td>\n",
       "      <td>mobile safari 11.0</td>\n",
       "      <td>32.0</td>\n",
       "      <td>1334x750</td>\n",
       "      <td>match_status:1</td>\n",
       "      <td>T</td>\n",
       "      <td>F</td>\n",
       "      <td>F</td>\n",
       "      <td>T</td>\n",
       "      <td>mobile</td>\n",
       "      <td>iOS Device</td>\n",
       "    </tr>\n",
       "    <tr>\n",
       "      <th>2</th>\n",
       "      <td>2987010</td>\n",
       "      <td>-5.0</td>\n",
       "      <td>191631.0</td>\n",
       "      <td>0.0</td>\n",
       "      <td>0.0</td>\n",
       "      <td>0.0</td>\n",
       "      <td>0.0</td>\n",
       "      <td>NaN</td>\n",
       "      <td>NaN</td>\n",
       "      <td>0.0</td>\n",
       "      <td>...</td>\n",
       "      <td>chrome 62.0</td>\n",
       "      <td>NaN</td>\n",
       "      <td>NaN</td>\n",
       "      <td>NaN</td>\n",
       "      <td>F</td>\n",
       "      <td>F</td>\n",
       "      <td>T</td>\n",
       "      <td>T</td>\n",
       "      <td>desktop</td>\n",
       "      <td>Windows</td>\n",
       "    </tr>\n",
       "    <tr>\n",
       "      <th>3</th>\n",
       "      <td>2987011</td>\n",
       "      <td>-5.0</td>\n",
       "      <td>221832.0</td>\n",
       "      <td>NaN</td>\n",
       "      <td>NaN</td>\n",
       "      <td>0.0</td>\n",
       "      <td>-6.0</td>\n",
       "      <td>NaN</td>\n",
       "      <td>NaN</td>\n",
       "      <td>NaN</td>\n",
       "      <td>...</td>\n",
       "      <td>chrome 62.0</td>\n",
       "      <td>NaN</td>\n",
       "      <td>NaN</td>\n",
       "      <td>NaN</td>\n",
       "      <td>F</td>\n",
       "      <td>F</td>\n",
       "      <td>T</td>\n",
       "      <td>T</td>\n",
       "      <td>desktop</td>\n",
       "      <td>NaN</td>\n",
       "    </tr>\n",
       "    <tr>\n",
       "      <th>4</th>\n",
       "      <td>2987016</td>\n",
       "      <td>0.0</td>\n",
       "      <td>7460.0</td>\n",
       "      <td>0.0</td>\n",
       "      <td>0.0</td>\n",
       "      <td>1.0</td>\n",
       "      <td>0.0</td>\n",
       "      <td>NaN</td>\n",
       "      <td>NaN</td>\n",
       "      <td>0.0</td>\n",
       "      <td>...</td>\n",
       "      <td>chrome 62.0</td>\n",
       "      <td>24.0</td>\n",
       "      <td>1280x800</td>\n",
       "      <td>match_status:2</td>\n",
       "      <td>T</td>\n",
       "      <td>F</td>\n",
       "      <td>T</td>\n",
       "      <td>T</td>\n",
       "      <td>desktop</td>\n",
       "      <td>MacOS</td>\n",
       "    </tr>\n",
       "  </tbody>\n",
       "</table>\n",
       "<p>5 rows × 41 columns</p>\n",
       "</div>"
      ],
      "text/plain": [
       "   TransactionID  id_01     id_02  id_03  id_04  id_05  id_06  id_07  id_08  \\\n",
       "0        2987004    0.0   70787.0    NaN    NaN    NaN    NaN    NaN    NaN   \n",
       "1        2987008   -5.0   98945.0    NaN    NaN    0.0   -5.0    NaN    NaN   \n",
       "2        2987010   -5.0  191631.0    0.0    0.0    0.0    0.0    NaN    NaN   \n",
       "3        2987011   -5.0  221832.0    NaN    NaN    0.0   -6.0    NaN    NaN   \n",
       "4        2987016    0.0    7460.0    0.0    0.0    1.0    0.0    NaN    NaN   \n",
       "\n",
       "   id_09  ...                id_31  id_32      id_33           id_34  id_35  \\\n",
       "0    NaN  ...  samsung browser 6.2   32.0  2220x1080  match_status:2      T   \n",
       "1    NaN  ...   mobile safari 11.0   32.0   1334x750  match_status:1      T   \n",
       "2    0.0  ...          chrome 62.0    NaN        NaN             NaN      F   \n",
       "3    NaN  ...          chrome 62.0    NaN        NaN             NaN      F   \n",
       "4    0.0  ...          chrome 62.0   24.0   1280x800  match_status:2      T   \n",
       "\n",
       "  id_36 id_37  id_38  DeviceType                     DeviceInfo  \n",
       "0     F     T      T      mobile  SAMSUNG SM-G892A Build/NRD90M  \n",
       "1     F     F      T      mobile                     iOS Device  \n",
       "2     F     T      T     desktop                        Windows  \n",
       "3     F     T      T     desktop                            NaN  \n",
       "4     F     T      T     desktop                          MacOS  \n",
       "\n",
       "[5 rows x 41 columns]"
      ]
     },
     "execution_count": 3,
     "metadata": {},
     "output_type": "execute_result"
    }
   ],
   "source": [
    "# let's see the head data of both data sets\n",
    "train_identity.head()"
   ]
  },
  {
   "cell_type": "code",
   "execution_count": 4,
   "id": "e555b0a9",
   "metadata": {
    "scrolled": true
   },
   "outputs": [
    {
     "data": {
      "text/html": [
       "<div>\n",
       "<style scoped>\n",
       "    .dataframe tbody tr th:only-of-type {\n",
       "        vertical-align: middle;\n",
       "    }\n",
       "\n",
       "    .dataframe tbody tr th {\n",
       "        vertical-align: top;\n",
       "    }\n",
       "\n",
       "    .dataframe thead th {\n",
       "        text-align: right;\n",
       "    }\n",
       "</style>\n",
       "<table border=\"1\" class=\"dataframe\">\n",
       "  <thead>\n",
       "    <tr style=\"text-align: right;\">\n",
       "      <th></th>\n",
       "      <th>TransactionID</th>\n",
       "      <th>isFraud</th>\n",
       "      <th>TransactionDT</th>\n",
       "      <th>TransactionAmt</th>\n",
       "      <th>ProductCD</th>\n",
       "      <th>card1</th>\n",
       "      <th>card2</th>\n",
       "      <th>card3</th>\n",
       "      <th>card4</th>\n",
       "      <th>card5</th>\n",
       "      <th>...</th>\n",
       "      <th>V330</th>\n",
       "      <th>V331</th>\n",
       "      <th>V332</th>\n",
       "      <th>V333</th>\n",
       "      <th>V334</th>\n",
       "      <th>V335</th>\n",
       "      <th>V336</th>\n",
       "      <th>V337</th>\n",
       "      <th>V338</th>\n",
       "      <th>V339</th>\n",
       "    </tr>\n",
       "  </thead>\n",
       "  <tbody>\n",
       "    <tr>\n",
       "      <th>0</th>\n",
       "      <td>2987000</td>\n",
       "      <td>0</td>\n",
       "      <td>86400</td>\n",
       "      <td>68.5</td>\n",
       "      <td>W</td>\n",
       "      <td>13926</td>\n",
       "      <td>NaN</td>\n",
       "      <td>150.0</td>\n",
       "      <td>discover</td>\n",
       "      <td>142.0</td>\n",
       "      <td>...</td>\n",
       "      <td>NaN</td>\n",
       "      <td>NaN</td>\n",
       "      <td>NaN</td>\n",
       "      <td>NaN</td>\n",
       "      <td>NaN</td>\n",
       "      <td>NaN</td>\n",
       "      <td>NaN</td>\n",
       "      <td>NaN</td>\n",
       "      <td>NaN</td>\n",
       "      <td>NaN</td>\n",
       "    </tr>\n",
       "    <tr>\n",
       "      <th>1</th>\n",
       "      <td>2987001</td>\n",
       "      <td>0</td>\n",
       "      <td>86401</td>\n",
       "      <td>29.0</td>\n",
       "      <td>W</td>\n",
       "      <td>2755</td>\n",
       "      <td>404.0</td>\n",
       "      <td>150.0</td>\n",
       "      <td>mastercard</td>\n",
       "      <td>102.0</td>\n",
       "      <td>...</td>\n",
       "      <td>NaN</td>\n",
       "      <td>NaN</td>\n",
       "      <td>NaN</td>\n",
       "      <td>NaN</td>\n",
       "      <td>NaN</td>\n",
       "      <td>NaN</td>\n",
       "      <td>NaN</td>\n",
       "      <td>NaN</td>\n",
       "      <td>NaN</td>\n",
       "      <td>NaN</td>\n",
       "    </tr>\n",
       "    <tr>\n",
       "      <th>2</th>\n",
       "      <td>2987002</td>\n",
       "      <td>0</td>\n",
       "      <td>86469</td>\n",
       "      <td>59.0</td>\n",
       "      <td>W</td>\n",
       "      <td>4663</td>\n",
       "      <td>490.0</td>\n",
       "      <td>150.0</td>\n",
       "      <td>visa</td>\n",
       "      <td>166.0</td>\n",
       "      <td>...</td>\n",
       "      <td>NaN</td>\n",
       "      <td>NaN</td>\n",
       "      <td>NaN</td>\n",
       "      <td>NaN</td>\n",
       "      <td>NaN</td>\n",
       "      <td>NaN</td>\n",
       "      <td>NaN</td>\n",
       "      <td>NaN</td>\n",
       "      <td>NaN</td>\n",
       "      <td>NaN</td>\n",
       "    </tr>\n",
       "    <tr>\n",
       "      <th>3</th>\n",
       "      <td>2987003</td>\n",
       "      <td>0</td>\n",
       "      <td>86499</td>\n",
       "      <td>50.0</td>\n",
       "      <td>W</td>\n",
       "      <td>18132</td>\n",
       "      <td>567.0</td>\n",
       "      <td>150.0</td>\n",
       "      <td>mastercard</td>\n",
       "      <td>117.0</td>\n",
       "      <td>...</td>\n",
       "      <td>NaN</td>\n",
       "      <td>NaN</td>\n",
       "      <td>NaN</td>\n",
       "      <td>NaN</td>\n",
       "      <td>NaN</td>\n",
       "      <td>NaN</td>\n",
       "      <td>NaN</td>\n",
       "      <td>NaN</td>\n",
       "      <td>NaN</td>\n",
       "      <td>NaN</td>\n",
       "    </tr>\n",
       "    <tr>\n",
       "      <th>4</th>\n",
       "      <td>2987004</td>\n",
       "      <td>0</td>\n",
       "      <td>86506</td>\n",
       "      <td>50.0</td>\n",
       "      <td>H</td>\n",
       "      <td>4497</td>\n",
       "      <td>514.0</td>\n",
       "      <td>150.0</td>\n",
       "      <td>mastercard</td>\n",
       "      <td>102.0</td>\n",
       "      <td>...</td>\n",
       "      <td>0.0</td>\n",
       "      <td>0.0</td>\n",
       "      <td>0.0</td>\n",
       "      <td>0.0</td>\n",
       "      <td>0.0</td>\n",
       "      <td>0.0</td>\n",
       "      <td>0.0</td>\n",
       "      <td>0.0</td>\n",
       "      <td>0.0</td>\n",
       "      <td>0.0</td>\n",
       "    </tr>\n",
       "  </tbody>\n",
       "</table>\n",
       "<p>5 rows × 394 columns</p>\n",
       "</div>"
      ],
      "text/plain": [
       "   TransactionID  isFraud  TransactionDT  TransactionAmt ProductCD  card1  \\\n",
       "0        2987000        0          86400            68.5         W  13926   \n",
       "1        2987001        0          86401            29.0         W   2755   \n",
       "2        2987002        0          86469            59.0         W   4663   \n",
       "3        2987003        0          86499            50.0         W  18132   \n",
       "4        2987004        0          86506            50.0         H   4497   \n",
       "\n",
       "   card2  card3       card4  card5  ... V330  V331  V332  V333  V334 V335  \\\n",
       "0    NaN  150.0    discover  142.0  ...  NaN   NaN   NaN   NaN   NaN  NaN   \n",
       "1  404.0  150.0  mastercard  102.0  ...  NaN   NaN   NaN   NaN   NaN  NaN   \n",
       "2  490.0  150.0        visa  166.0  ...  NaN   NaN   NaN   NaN   NaN  NaN   \n",
       "3  567.0  150.0  mastercard  117.0  ...  NaN   NaN   NaN   NaN   NaN  NaN   \n",
       "4  514.0  150.0  mastercard  102.0  ...  0.0   0.0   0.0   0.0   0.0  0.0   \n",
       "\n",
       "  V336  V337  V338  V339  \n",
       "0  NaN   NaN   NaN   NaN  \n",
       "1  NaN   NaN   NaN   NaN  \n",
       "2  NaN   NaN   NaN   NaN  \n",
       "3  NaN   NaN   NaN   NaN  \n",
       "4  0.0   0.0   0.0   0.0  \n",
       "\n",
       "[5 rows x 394 columns]"
      ]
     },
     "execution_count": 4,
     "metadata": {},
     "output_type": "execute_result"
    }
   ],
   "source": [
    "train_transaction.head()"
   ]
  },
  {
   "cell_type": "code",
   "execution_count": 5,
   "id": "256f2692",
   "metadata": {},
   "outputs": [
    {
     "name": "stdout",
     "output_type": "stream",
     "text": [
      "shape of identity:  (144233, 41)\n",
      "shape of transaction:  (590540, 394)\n"
     ]
    }
   ],
   "source": [
    "print('shape of identity: ', train_identity.shape)\n",
    "print('shape of transaction: ', train_transaction.shape)"
   ]
  },
  {
   "cell_type": "markdown",
   "id": "9ce35082",
   "metadata": {},
   "source": [
    "The Identity data set has 41 features and 144233 data rows\n",
    "\n",
    "The transaction data set has 394 features and 590540 data rows"
   ]
  },
  {
   "cell_type": "code",
   "execution_count": 6,
   "id": "4433ad3e",
   "metadata": {},
   "outputs": [],
   "source": [
    "# Merging both training data sets based on transaction ID given in the project description \n",
    "# we use merge function using attributes 'how' and 'on'\n",
    "# 'how' attribute represents how we join the data sets in this case we used left as some of the transaction may not  \n",
    "#  --contain transaction ID in identity column\n",
    "# 'on' attribute represents the primary key column i.e., transactionID \n",
    "\n",
    "train = pd.merge(train_transaction,train_identity, on='TransactionID', how='left')"
   ]
  },
  {
   "cell_type": "code",
   "execution_count": 7,
   "id": "2b0d90ba",
   "metadata": {},
   "outputs": [],
   "source": [
    "# the above cell in my laptop took 10 mins to run, so I am using memory reduction function \n",
    "\n",
    "def reduce_mem_usage(df, verbose=True):\n",
    "    numerics = ['int16', 'int32', 'int64', 'float16', 'float32', 'float64']\n",
    "    start_mem = df.memory_usage().sum() / 1024**2\n",
    "    for col in df.columns:\n",
    "        col_type = df[col].dtypes\n",
    "        if col_type in numerics:\n",
    "            c_min = df[col].min()\n",
    "            c_max = df[col].max()\n",
    "            if str(col_type)[:3] == 'int':\n",
    "                if c_min > np.iinfo(np.int8).min and c_max < np.iinfo(np.int8).max:\n",
    "                    df[col] = df[col].astype(np.int8)\n",
    "                elif c_min > np.iinfo(np.int16).min and c_max < np.iinfo(np.int16).max:\n",
    "                    df[col] = df[col].astype(np.int16)\n",
    "                elif c_min > np.iinfo(np.int32).min and c_max < np.iinfo(np.int32).max:\n",
    "                    df[col] = df[col].astype(np.int32)\n",
    "                elif c_min > np.iinfo(np.int64).min and c_max < np.iinfo(np.int64).max:\n",
    "                    df[col] = df[col].astype(np.int64)\n",
    "            else:\n",
    "                if c_min > np.finfo(np.float16).min and c_max < np.finfo(np.float16).max:\n",
    "                    df[col] = df[col].astype(np.float16)\n",
    "                elif c_min > np.finfo(np.float32).min and c_max < np.finfo(np.float32).max:\n",
    "                    df[col] = df[col].astype(np.float32)\n",
    "                else:\n",
    "                    df[col] = df[col].astype(np.float64)\n",
    "    end_mem = df.memory_usage().sum() / 1024**2\n",
    "    if verbose: \n",
    "        print('Mem. usage decreased to {:5.2f} Mb ({:.1f}% reduction)'.format(end_mem, 100 * (start_mem - end_mem) / start_mem))\n",
    "    return df"
   ]
  },
  {
   "cell_type": "code",
   "execution_count": 8,
   "id": "053ac19d",
   "metadata": {
    "scrolled": true
   },
   "outputs": [
    {
     "name": "stdout",
     "output_type": "stream",
     "text": [
      "Mem. usage decreased to 650.48 Mb (66.8% reduction)\n",
      "training data set shape:  (590540, 434)\n"
     ]
    }
   ],
   "source": [
    "#reducing the memory using the reduction function\n",
    "train = reduce_mem_usage(train)\n",
    "print('training data set shape: ', train.shape)"
   ]
  },
  {
   "cell_type": "markdown",
   "id": "a316d24e",
   "metadata": {},
   "source": [
    "- 67% memory is reduced using this function "
   ]
  },
  {
   "cell_type": "code",
   "execution_count": 9,
   "id": "ffa8c227",
   "metadata": {},
   "outputs": [],
   "source": [
    "# Now lets dive into data analysis on the each column/ features given in training data set\n",
    "# first on given target column i.e., isFraud"
   ]
  },
  {
   "cell_type": "code",
   "execution_count": 10,
   "id": "4d629fe6",
   "metadata": {},
   "outputs": [
    {
     "name": "stderr",
     "output_type": "stream",
     "text": [
      "C:\\Users\\91733\\anaconda3\\lib\\site-packages\\seaborn\\_decorators.py:36: FutureWarning: Pass the following variable as a keyword arg: x. From version 0.12, the only valid positional argument will be `data`, and passing other arguments without an explicit keyword will result in an error or misinterpretation.\n",
      "  warnings.warn(\n"
     ]
    },
    {
     "data": {
      "image/png": "[encoded data removed]",
      "text/plain": [
       "<Figure size 432x288 with 1 Axes>"
      ]
     },
     "metadata": {
      "needs_background": "light"
     },
     "output_type": "display_data"
    },
    {
     "name": "stdout",
     "output_type": "stream",
     "text": [
      "96.5 % is the legit data\n"
     ]
    }
   ],
   "source": [
    "sns.countplot(train['isFraud'])\n",
    "plt.show()\n",
    "print(np.round(train[train['isFraud']==0].shape[0]/train.shape[0]*100,2), '% is the legit data')"
   ]
  },
  {
   "cell_type": "code",
   "execution_count": 11,
   "id": "11d5108d",
   "metadata": {},
   "outputs": [],
   "source": [
    "# As we can see this is highly imbalanced data"
   ]
  },
  {
   "cell_type": "markdown",
   "id": "3d68eb4f",
   "metadata": {},
   "source": [
    "**Analysis on TransactionDT**"
   ]
  },
  {
   "cell_type": "code",
   "execution_count": 12,
   "id": "73b35b39",
   "metadata": {},
   "outputs": [
    {
     "data": {
      "text/plain": [
       "count    5.905400e+05\n",
       "mean     7.372311e+06\n",
       "std      4.617224e+06\n",
       "min      8.640000e+04\n",
       "25%      3.027058e+06\n",
       "50%      7.306528e+06\n",
       "75%      1.124662e+07\n",
       "max      1.581113e+07\n",
       "Name: TransactionDT, dtype: float64"
      ]
     },
     "execution_count": 12,
     "metadata": {},
     "output_type": "execute_result"
    }
   ],
   "source": [
    "# describe() function best describes the column by calculating it's numerical attributes \n",
    "#like count, mean, std etc \n",
    "\n",
    "# we'll see how TransactionDT gets described\n",
    "train['TransactionDT'].describe()"
   ]
  },
  {
   "cell_type": "code",
   "execution_count": 13,
   "id": "cd9f710e",
   "metadata": {},
   "outputs": [
    {
     "data": {
      "text/plain": [
       "count    2.066300e+04\n",
       "mean     7.690033e+06\n",
       "std      4.416551e+06\n",
       "min      8.976000e+04\n",
       "25%      3.965858e+06\n",
       "50%      7.575230e+06\n",
       "75%      1.121743e+07\n",
       "max      1.581088e+07\n",
       "Name: TransactionDT, dtype: float64"
      ]
     },
     "execution_count": 13,
     "metadata": {},
     "output_type": "execute_result"
    }
   ],
   "source": [
    "# we are taking account of when fradulant transaction happened and describing them\n",
    "train[train['isFraud']==1]['TransactionDT'].describe()"
   ]
  },
  {
   "cell_type": "code",
   "execution_count": 14,
   "id": "e36c84c0",
   "metadata": {},
   "outputs": [
    {
     "data": {
      "text/plain": [
       "count    5.698770e+05\n",
       "mean     7.360791e+06\n",
       "std      4.623930e+06\n",
       "min      8.640000e+04\n",
       "25%      3.010651e+06\n",
       "50%      7.271678e+06\n",
       "75%      1.125334e+07\n",
       "max      1.581113e+07\n",
       "Name: TransactionDT, dtype: float64"
      ]
     },
     "execution_count": 14,
     "metadata": {},
     "output_type": "execute_result"
    }
   ],
   "source": [
    "train[train['isFraud']==0]['TransactionDT'].describe()"
   ]
  },
  {
   "cell_type": "code",
   "execution_count": 15,
   "id": "20ff48c4",
   "metadata": {
    "scrolled": false
   },
   "outputs": [
    {
     "data": {
      "text/plain": [
       "<seaborn.axisgrid.FacetGrid at 0x23635433be0>"
      ]
     },
     "execution_count": 15,
     "metadata": {},
     "output_type": "execute_result"
    },
    {
     "data": {
      "image/png": "[encoded data removed]",
      "text/plain": [
       "<Figure size 360x360 with 1 Axes>"
      ]
     },
     "metadata": {
      "needs_background": "light"
     },
     "output_type": "display_data"
    }
   ],
   "source": [
    "# distribution of TransactionDT column \n",
    "sns.displot(train['TransactionDT'], kde=False)"
   ]
  },
  {
   "cell_type": "markdown",
   "id": "9d552d35",
   "metadata": {},
   "source": [
    "**Analysis on TransactionAmt**"
   ]
  },
  {
   "cell_type": "code",
   "execution_count": 16,
   "id": "c56f3eca",
   "metadata": {},
   "outputs": [
    {
     "data": {
      "text/plain": [
       "count    569877.000000\n",
       "mean        134.511665\n",
       "std         239.395078\n",
       "min           0.251000\n",
       "25%          43.970000\n",
       "50%          68.500000\n",
       "75%         120.000000\n",
       "max       31937.391000\n",
       "Name: TransactionAmt, dtype: float64"
      ]
     },
     "execution_count": 16,
     "metadata": {},
     "output_type": "execute_result"
    }
   ],
   "source": [
    "# we know that 0 in isFraud is legit transaction, lets take those transaction into one data frame\n",
    "legit_transaction = train_transaction.loc[train_transaction['isFraud']==0]\n",
    "legit_transaction['TransactionAmt'].describe()"
   ]
  },
  {
   "cell_type": "code",
   "execution_count": 17,
   "id": "0f4f5f35",
   "metadata": {},
   "outputs": [
    {
     "data": {
      "text/plain": [
       "count    20663.000000\n",
       "mean       149.244779\n",
       "std        232.212163\n",
       "min          0.292000\n",
       "25%         35.044000\n",
       "50%         75.000000\n",
       "75%        161.000000\n",
       "max       5191.000000\n",
       "Name: TransactionAmt, dtype: float64"
      ]
     },
     "execution_count": 17,
     "metadata": {},
     "output_type": "execute_result"
    }
   ],
   "source": [
    "# similarily for fraudulant transactions we'll create a seperate data frame\n",
    "fraud_transaction = train_transaction.loc[train_transaction['isFraud']==1]\n",
    "fraud_transaction['TransactionAmt'].describe()"
   ]
  },
  {
   "cell_type": "code",
   "execution_count": 18,
   "id": "6a189646",
   "metadata": {},
   "outputs": [
    {
     "name": "stdout",
     "output_type": "stream",
     "text": [
      "the average Transaction amount for legit transaction is:  134.51166457896034\n"
     ]
    }
   ],
   "source": [
    "print('the average Transaction amount for legit transaction is: ', np.mean(legit_transaction['TransactionAmt']))"
   ]
  },
  {
   "cell_type": "code",
   "execution_count": 19,
   "id": "5ceeb1b5",
   "metadata": {},
   "outputs": [
    {
     "name": "stdout",
     "output_type": "stream",
     "text": [
      "the average transaction amount for fraud transaction is:  149.2447785897534\n"
     ]
    }
   ],
   "source": [
    "print('the average transaction amount for fraud transaction is: ', np.mean(fraud_transaction['TransactionAmt']))"
   ]
  },
  {
   "cell_type": "code",
   "execution_count": 20,
   "id": "43395f11",
   "metadata": {},
   "outputs": [
    {
     "name": "stdout",
     "output_type": "stream",
     "text": [
      "99.98 percentile values:  3777.160400000168\n",
      "99.99 percentile values:  4224.0\n"
     ]
    }
   ],
   "source": [
    "# we are calculating percentiles just to observe if these values are outliers or not \n",
    "# outliers are the values which vastly affect our data set\n",
    "print('99.98 percentile values: ',np.percentile(train['TransactionAmt'],99.98))\n",
    "print('99.99 percentile values: ',np.percentile(train['TransactionAmt'],99.99))"
   ]
  },
  {
   "cell_type": "markdown",
   "id": "c4d2f711",
   "metadata": {},
   "source": [
    "- 99.98 percentile and 99.99 percentile has very large difference, lets check what are these values"
   ]
  },
  {
   "cell_type": "code",
   "execution_count": 21,
   "id": "598108b2",
   "metadata": {},
   "outputs": [
    {
     "data": {
      "text/html": [
       "<div>\n",
       "<style scoped>\n",
       "    .dataframe tbody tr th:only-of-type {\n",
       "        vertical-align: middle;\n",
       "    }\n",
       "\n",
       "    .dataframe tbody tr th {\n",
       "        vertical-align: top;\n",
       "    }\n",
       "\n",
       "    .dataframe thead th {\n",
       "        text-align: right;\n",
       "    }\n",
       "</style>\n",
       "<table border=\"1\" class=\"dataframe\">\n",
       "  <thead>\n",
       "    <tr style=\"text-align: right;\">\n",
       "      <th></th>\n",
       "      <th>TransactionID</th>\n",
       "      <th>isFraud</th>\n",
       "      <th>TransactionDT</th>\n",
       "      <th>TransactionAmt</th>\n",
       "      <th>ProductCD</th>\n",
       "      <th>card1</th>\n",
       "      <th>card2</th>\n",
       "      <th>card3</th>\n",
       "      <th>card4</th>\n",
       "      <th>card5</th>\n",
       "      <th>...</th>\n",
       "      <th>id_31</th>\n",
       "      <th>id_32</th>\n",
       "      <th>id_33</th>\n",
       "      <th>id_34</th>\n",
       "      <th>id_35</th>\n",
       "      <th>id_36</th>\n",
       "      <th>id_37</th>\n",
       "      <th>id_38</th>\n",
       "      <th>DeviceType</th>\n",
       "      <th>DeviceInfo</th>\n",
       "    </tr>\n",
       "  </thead>\n",
       "  <tbody>\n",
       "    <tr>\n",
       "      <th>274336</th>\n",
       "      <td>3261336</td>\n",
       "      <td>0</td>\n",
       "      <td>6652360</td>\n",
       "      <td>31936.0</td>\n",
       "      <td>W</td>\n",
       "      <td>16075</td>\n",
       "      <td>514.0</td>\n",
       "      <td>150.0</td>\n",
       "      <td>mastercard</td>\n",
       "      <td>102.0</td>\n",
       "      <td>...</td>\n",
       "      <td>NaN</td>\n",
       "      <td>NaN</td>\n",
       "      <td>NaN</td>\n",
       "      <td>NaN</td>\n",
       "      <td>NaN</td>\n",
       "      <td>NaN</td>\n",
       "      <td>NaN</td>\n",
       "      <td>NaN</td>\n",
       "      <td>NaN</td>\n",
       "      <td>NaN</td>\n",
       "    </tr>\n",
       "    <tr>\n",
       "      <th>274339</th>\n",
       "      <td>3261339</td>\n",
       "      <td>0</td>\n",
       "      <td>6652391</td>\n",
       "      <td>31936.0</td>\n",
       "      <td>W</td>\n",
       "      <td>16075</td>\n",
       "      <td>514.0</td>\n",
       "      <td>150.0</td>\n",
       "      <td>mastercard</td>\n",
       "      <td>102.0</td>\n",
       "      <td>...</td>\n",
       "      <td>NaN</td>\n",
       "      <td>NaN</td>\n",
       "      <td>NaN</td>\n",
       "      <td>NaN</td>\n",
       "      <td>NaN</td>\n",
       "      <td>NaN</td>\n",
       "      <td>NaN</td>\n",
       "      <td>NaN</td>\n",
       "      <td>NaN</td>\n",
       "      <td>NaN</td>\n",
       "    </tr>\n",
       "  </tbody>\n",
       "</table>\n",
       "<p>2 rows × 434 columns</p>\n",
       "</div>"
      ],
      "text/plain": [
       "        TransactionID  isFraud  TransactionDT  TransactionAmt ProductCD  \\\n",
       "274336        3261336        0        6652360         31936.0         W   \n",
       "274339        3261339        0        6652391         31936.0         W   \n",
       "\n",
       "        card1  card2  card3       card4  card5  ... id_31  id_32  id_33  \\\n",
       "274336  16075  514.0  150.0  mastercard  102.0  ...   NaN    NaN    NaN   \n",
       "274339  16075  514.0  150.0  mastercard  102.0  ...   NaN    NaN    NaN   \n",
       "\n",
       "        id_34  id_35 id_36 id_37  id_38  DeviceType  DeviceInfo  \n",
       "274336    NaN    NaN   NaN   NaN    NaN         NaN         NaN  \n",
       "274339    NaN    NaN   NaN   NaN    NaN         NaN         NaN  \n",
       "\n",
       "[2 rows x 434 columns]"
      ]
     },
     "execution_count": 21,
     "metadata": {},
     "output_type": "execute_result"
    }
   ],
   "source": [
    "train[train['TransactionAmt']>10000]"
   ]
  },
  {
   "cell_type": "markdown",
   "id": "426a55da",
   "metadata": {},
   "source": [
    "- Only 2 values which have higher than 10,000 and these 2 values seems like duplicate.\n",
    "- Lets remove these 2 values."
   ]
  },
  {
   "cell_type": "code",
   "execution_count": 22,
   "id": "38d1b0bf",
   "metadata": {},
   "outputs": [],
   "source": [
    "train = train[train['TransactionAmt']<10000]"
   ]
  },
  {
   "cell_type": "code",
   "execution_count": 23,
   "id": "74a964be",
   "metadata": {},
   "outputs": [],
   "source": [
    "#Since some values are high in the dataset lets take log value of this amt and create a new feature."
   ]
  },
  {
   "cell_type": "code",
   "execution_count": 24,
   "id": "43f331f1",
   "metadata": {},
   "outputs": [],
   "source": [
    "train['LogTransactionAmt'] = np.log(train['TransactionAmt'])"
   ]
  },
  {
   "cell_type": "code",
   "execution_count": 78,
   "id": "c3728e82",
   "metadata": {},
   "outputs": [
    {
     "name": "stderr",
     "output_type": "stream",
     "text": [
      "C:\\Users\\91733\\anaconda3\\lib\\site-packages\\seaborn\\distributions.py:2557: FutureWarning: `distplot` is a deprecated function and will be removed in a future version. Please adapt your code to use either `displot` (a figure-level function with similar flexibility) or `histplot` (an axes-level function for histograms).\n",
      "  warnings.warn(msg, FutureWarning)\n",
      "C:\\Users\\91733\\anaconda3\\lib\\site-packages\\seaborn\\distributions.py:2557: FutureWarning: `distplot` is a deprecated function and will be removed in a future version. Please adapt your code to use either `displot` (a figure-level function with similar flexibility) or `histplot` (an axes-level function for histograms).\n",
      "  warnings.warn(msg, FutureWarning)\n"
     ]
    },
    {
     "data": {
      "text/plain": [
       "<matplotlib.legend.Legend at 0x2369147e730>"
      ]
     },
     "execution_count": 78,
     "metadata": {},
     "output_type": "execute_result"
    },
    {
     "data": {
      "image/png": "[encoded data removed]",
      "text/plain": [
       "<Figure size 432x288 with 1 Axes>"
      ]
     },
     "metadata": {
      "needs_background": "light"
     },
     "output_type": "display_data"
    }
   ],
   "source": [
    "sns.distplot(train[train['isFraud']==0]['LogTransactionAmt'])\n",
    "sns.distplot(train[train['isFraud']==1]['LogTransactionAmt'])\n",
    "plt.legend(['legit','fraud'])"
   ]
  },
  {
   "cell_type": "markdown",
   "id": "0533e541",
   "metadata": {},
   "source": [
    "- from the figure we can observe that overlap values of fraud and legit is higher after 5 and before 3\n",
    "- And logTransactionAmt from 3 to 5 have higher chance it is legit transaction."
   ]
  },
  {
   "cell_type": "code",
   "execution_count": 26,
   "id": "4b5f1c23",
   "metadata": {},
   "outputs": [
    {
     "data": {
      "text/plain": [
       "<AxesSubplot:xlabel='TransactionDT', ylabel='TransactionAmt'>"
      ]
     },
     "execution_count": 26,
     "metadata": {},
     "output_type": "execute_result"
    },
    {
     "data": {
      "image/png": "[encoded data removed]",
      "text/plain": [
       "<Figure size 432x288 with 1 Axes>"
      ]
     },
     "metadata": {
      "needs_background": "light"
     },
     "output_type": "display_data"
    }
   ],
   "source": [
    "# lets see on what dates the fraudulant transaction took place \n",
    "sns.scatterplot(x=\"TransactionDT\",y=\"TransactionAmt\",hue=\"isFraud\",data=train)"
   ]
  },
  {
   "cell_type": "markdown",
   "id": "f1685a3e",
   "metadata": {},
   "source": [
    "**Analysis on ProductCD column**"
   ]
  },
  {
   "cell_type": "code",
   "execution_count": 27,
   "id": "f07137ed",
   "metadata": {},
   "outputs": [
    {
     "data": {
      "text/plain": [
       "<AxesSubplot:xlabel='ProductCD', ylabel='percentage'>"
      ]
     },
     "execution_count": 27,
     "metadata": {},
     "output_type": "execute_result"
    },
    {
     "data": {
      "image/png": "[encoded data removed]",
      "text/plain": [
       "<Figure size 432x288 with 1 Axes>"
      ]
     },
     "metadata": {
      "needs_background": "light"
     },
     "output_type": "display_data"
    }
   ],
   "source": [
    "# we are trying to find on which products most fraudulant transactions happened \n",
    "# for this we use groupby attribute, value_counts tells us the number of unique values are there\n",
    "# then we'll rename it so as to not get confused and finally we'll sort the values alphabetically\n",
    "\n",
    "train_ProductCD = train.groupby(['isFraud'])['ProductCD'].value_counts(normalize=True).rename('percentage').mul(100).reset_index().sort_values('ProductCD')\n",
    "sns.barplot(x=\"ProductCD\", y=\"percentage\", hue=\"isFraud\", data=train_ProductCD)"
   ]
  },
  {
   "cell_type": "markdown",
   "id": "c94ac497",
   "metadata": {},
   "source": [
    "- we can observe that if ProductCD is 'C' there is 40% chance that it is fraud\n",
    "- similarily ProductCDs 'H', 'R', 'S' rate of doing fraud is also high"
   ]
  },
  {
   "cell_type": "markdown",
   "id": "868e254b",
   "metadata": {},
   "source": [
    "**Let's Analyse card1 column**"
   ]
  },
  {
   "cell_type": "code",
   "execution_count": 28,
   "id": "58648b7c",
   "metadata": {},
   "outputs": [
    {
     "data": {
      "text/plain": [
       "count    590538.000000\n",
       "mean       9898.713741\n",
       "std        4901.165273\n",
       "min        1000.000000\n",
       "25%        6019.000000\n",
       "50%        9678.000000\n",
       "75%       14182.750000\n",
       "max       18396.000000\n",
       "Name: card1, dtype: float64"
      ]
     },
     "execution_count": 28,
     "metadata": {},
     "output_type": "execute_result"
    }
   ],
   "source": [
    "# describing card1 column\n",
    "train['card1'].describe()"
   ]
  },
  {
   "cell_type": "code",
   "execution_count": 29,
   "id": "3bc667ba",
   "metadata": {},
   "outputs": [
    {
     "name": "stderr",
     "output_type": "stream",
     "text": [
      "C:\\Users\\91733\\anaconda3\\lib\\site-packages\\seaborn\\distributions.py:2557: FutureWarning: `distplot` is a deprecated function and will be removed in a future version. Please adapt your code to use either `displot` (a figure-level function with similar flexibility) or `histplot` (an axes-level function for histograms).\n",
      "  warnings.warn(msg, FutureWarning)\n",
      "C:\\Users\\91733\\anaconda3\\lib\\site-packages\\seaborn\\distributions.py:2557: FutureWarning: `distplot` is a deprecated function and will be removed in a future version. Please adapt your code to use either `displot` (a figure-level function with similar flexibility) or `histplot` (an axes-level function for histograms).\n",
      "  warnings.warn(msg, FutureWarning)\n"
     ]
    },
    {
     "data": {
      "text/plain": [
       "<matplotlib.legend.Legend at 0x23633ef5880>"
      ]
     },
     "execution_count": 29,
     "metadata": {},
     "output_type": "execute_result"
    },
    {
     "data": {
      "image/png": "[encoded data removed]",
      "text/plain": [
       "<Figure size 432x288 with 1 Axes>"
      ]
     },
     "metadata": {
      "needs_background": "light"
     },
     "output_type": "display_data"
    }
   ],
   "source": [
    "# lets plot fraud transactions done on card1\n",
    "\n",
    "sns.distplot(train[train['isFraud']==0]['card1'])\n",
    "sns.distplot(train[train['isFraud']==1]['card1'])\n",
    "plt.legend(['legit','fraud'])"
   ]
  },
  {
   "cell_type": "markdown",
   "id": "9e5deb6e",
   "metadata": {},
   "source": [
    "- looks like density of fraudulant transactions on card1 is 0.00016, which is good"
   ]
  },
  {
   "cell_type": "markdown",
   "id": "f6cf98df",
   "metadata": {},
   "source": [
    "**Similarily I'll do the analysis on card2 - card 5**"
   ]
  },
  {
   "cell_type": "code",
   "execution_count": 30,
   "id": "020553fc",
   "metadata": {},
   "outputs": [
    {
     "data": {
      "text/plain": [
       "count    581607.000000\n",
       "mean        362.555488\n",
       "std         157.793246\n",
       "min         100.000000\n",
       "25%         214.000000\n",
       "50%         361.000000\n",
       "75%         512.000000\n",
       "max         600.000000\n",
       "Name: card2, dtype: float64"
      ]
     },
     "execution_count": 30,
     "metadata": {},
     "output_type": "execute_result"
    }
   ],
   "source": [
    "train_transaction['card2'].describe()"
   ]
  },
  {
   "cell_type": "code",
   "execution_count": 31,
   "id": "02f08970",
   "metadata": {},
   "outputs": [
    {
     "name": "stderr",
     "output_type": "stream",
     "text": [
      "C:\\Users\\91733\\anaconda3\\lib\\site-packages\\seaborn\\distributions.py:2557: FutureWarning: `distplot` is a deprecated function and will be removed in a future version. Please adapt your code to use either `displot` (a figure-level function with similar flexibility) or `histplot` (an axes-level function for histograms).\n",
      "  warnings.warn(msg, FutureWarning)\n",
      "C:\\Users\\91733\\anaconda3\\lib\\site-packages\\seaborn\\distributions.py:2557: FutureWarning: `distplot` is a deprecated function and will be removed in a future version. Please adapt your code to use either `displot` (a figure-level function with similar flexibility) or `histplot` (an axes-level function for histograms).\n",
      "  warnings.warn(msg, FutureWarning)\n"
     ]
    },
    {
     "data": {
      "text/plain": [
       "<matplotlib.legend.Legend at 0x23634068040>"
      ]
     },
     "execution_count": 31,
     "metadata": {},
     "output_type": "execute_result"
    },
    {
     "data": {
      "image/png": "[encoded data removed]",
      "text/plain": [
       "<Figure size 432x288 with 1 Axes>"
      ]
     },
     "metadata": {
      "needs_background": "light"
     },
     "output_type": "display_data"
    }
   ],
   "source": [
    "# plotting fraud transactions done on card2\n",
    "sns.distplot(train[train['isFraud']==0]['card2'])\n",
    "sns.distplot(train[train['isFraud']==1]['card2'])\n",
    "plt.legend(['legit','fraud'])"
   ]
  },
  {
   "cell_type": "code",
   "execution_count": 32,
   "id": "385646c2",
   "metadata": {},
   "outputs": [
    {
     "data": {
      "text/plain": [
       "count    588975.000000\n",
       "mean        153.194925\n",
       "std          11.336444\n",
       "min         100.000000\n",
       "25%         150.000000\n",
       "50%         150.000000\n",
       "75%         150.000000\n",
       "max         231.000000\n",
       "Name: card3, dtype: float64"
      ]
     },
     "execution_count": 32,
     "metadata": {},
     "output_type": "execute_result"
    }
   ],
   "source": [
    "#card 3 \n",
    "train_transaction['card3'].describe()"
   ]
  },
  {
   "cell_type": "code",
   "execution_count": 33,
   "id": "1a06e257",
   "metadata": {},
   "outputs": [
    {
     "name": "stderr",
     "output_type": "stream",
     "text": [
      "C:\\Users\\91733\\anaconda3\\lib\\site-packages\\seaborn\\distributions.py:2557: FutureWarning: `distplot` is a deprecated function and will be removed in a future version. Please adapt your code to use either `displot` (a figure-level function with similar flexibility) or `histplot` (an axes-level function for histograms).\n",
      "  warnings.warn(msg, FutureWarning)\n",
      "C:\\Users\\91733\\anaconda3\\lib\\site-packages\\seaborn\\distributions.py:2557: FutureWarning: `distplot` is a deprecated function and will be removed in a future version. Please adapt your code to use either `displot` (a figure-level function with similar flexibility) or `histplot` (an axes-level function for histograms).\n",
      "  warnings.warn(msg, FutureWarning)\n"
     ]
    },
    {
     "data": {
      "text/plain": [
       "<matplotlib.legend.Legend at 0x23634076fa0>"
      ]
     },
     "execution_count": 33,
     "metadata": {},
     "output_type": "execute_result"
    },
    {
     "data": {
      "image/png": "[encoded data removed]",
      "text/plain": [
       "<Figure size 432x288 with 1 Axes>"
      ]
     },
     "metadata": {
      "needs_background": "light"
     },
     "output_type": "display_data"
    }
   ],
   "source": [
    "#plotting fraudulant transaction on card3\n",
    "\n",
    "sns.distplot(train[train['isFraud']==0]['card3'])\n",
    "sns.distplot(train[train['isFraud']==1]['card3'])\n",
    "plt.legend(['legit','fraud'])"
   ]
  },
  {
   "cell_type": "markdown",
   "id": "875541b7",
   "metadata": {},
   "source": [
    "- It is interesting to note that majority of the fraudulant transactions are of 2 values only in card 3.\n",
    "\n",
    "**Card 4**"
   ]
  },
  {
   "cell_type": "code",
   "execution_count": 34,
   "id": "f911848a",
   "metadata": {},
   "outputs": [
    {
     "data": {
      "text/plain": [
       "<AxesSubplot:xlabel='card4', ylabel='percentage'>"
      ]
     },
     "execution_count": 34,
     "metadata": {},
     "output_type": "execute_result"
    },
    {
     "data": {
      "image/png": "[encoded data removed]",
      "text/plain": [
       "<Figure size 432x288 with 1 Axes>"
      ]
     },
     "metadata": {
      "needs_background": "light"
     },
     "output_type": "display_data"
    }
   ],
   "source": [
    "# card 4 contains the names of the payment network previous card(s) used in the transaction.\n",
    "# so I will create a data frame just like I did for ProductCD by using groupby, value_counts attributes \n",
    "# mul here is multiplication as we are taking percentage of number of unique values are there to total number of transaction\n",
    "\n",
    "train_card4 = (train[~train['card4'].isnull()].groupby(['isFraud'])['card4']\n",
    "                     .value_counts(normalize=True)\n",
    "                     .rename('percentage')\n",
    "                     .mul(100)\n",
    "                     .reset_index()\n",
    "                     .sort_values('card4'))\n",
    "sns.barplot(x=\"card4\", y=\"percentage\", hue=\"isFraud\", data=train_card4)"
   ]
  },
  {
   "cell_type": "markdown",
   "id": "60d6cf27",
   "metadata": {},
   "source": [
    "- WOW, just look at percentage of fraudulant transactions in visa and mastercard, 60% and 30% !!\n",
    "- although the percentage of fraud transaction in visa and mastercard may be high but discover has more fraudulant transactions than their legit transactions, if you have discover payment network on your card change it xD \n",
    "\n",
    "**Card 5**"
   ]
  },
  {
   "cell_type": "code",
   "execution_count": 35,
   "id": "948c9040",
   "metadata": {},
   "outputs": [
    {
     "data": {
      "text/plain": [
       "count    586281.000000\n",
       "mean        199.278897\n",
       "std          41.244453\n",
       "min         100.000000\n",
       "25%         166.000000\n",
       "50%         226.000000\n",
       "75%         226.000000\n",
       "max         237.000000\n",
       "Name: card5, dtype: float64"
      ]
     },
     "execution_count": 35,
     "metadata": {},
     "output_type": "execute_result"
    }
   ],
   "source": [
    "train_transaction['card5'].describe()"
   ]
  },
  {
   "cell_type": "code",
   "execution_count": 36,
   "id": "06fb63de",
   "metadata": {},
   "outputs": [
    {
     "name": "stderr",
     "output_type": "stream",
     "text": [
      "C:\\Users\\91733\\anaconda3\\lib\\site-packages\\seaborn\\distributions.py:2557: FutureWarning: `distplot` is a deprecated function and will be removed in a future version. Please adapt your code to use either `displot` (a figure-level function with similar flexibility) or `histplot` (an axes-level function for histograms).\n",
      "  warnings.warn(msg, FutureWarning)\n",
      "C:\\Users\\91733\\anaconda3\\lib\\site-packages\\seaborn\\distributions.py:2557: FutureWarning: `distplot` is a deprecated function and will be removed in a future version. Please adapt your code to use either `displot` (a figure-level function with similar flexibility) or `histplot` (an axes-level function for histograms).\n",
      "  warnings.warn(msg, FutureWarning)\n"
     ]
    },
    {
     "data": {
      "text/plain": [
       "<matplotlib.legend.Legend at 0x236340f4880>"
      ]
     },
     "execution_count": 36,
     "metadata": {},
     "output_type": "execute_result"
    },
    {
     "data": {
      "image/png": "[encoded data removed]",
      "text/plain": [
       "<Figure size 432x288 with 1 Axes>"
      ]
     },
     "metadata": {
      "needs_background": "light"
     },
     "output_type": "display_data"
    }
   ],
   "source": [
    "#plotting fraudulant transaction on card5\n",
    "\n",
    "sns.distplot(train[train['isFraud']==0]['card5'])\n",
    "sns.distplot(train[train['isFraud']==1]['card5'])\n",
    "plt.legend(['legit','fraud'])"
   ]
  },
  {
   "cell_type": "markdown",
   "id": "b0ca7439",
   "metadata": {},
   "source": [
    "- at some intervals there is high chance for fraud for example at 225. \n",
    "- similarily legit transaction happen most at 160\n",
    "\n",
    "**Card 6**"
   ]
  },
  {
   "cell_type": "code",
   "execution_count": 37,
   "id": "35acd7ff",
   "metadata": {},
   "outputs": [
    {
     "data": {
      "text/plain": [
       "<AxesSubplot:xlabel='card6', ylabel='percentage'>"
      ]
     },
     "execution_count": 37,
     "metadata": {},
     "output_type": "execute_result"
    },
    {
     "data": {
      "image/png": "[encoded data removed]",
      "text/plain": [
       "<Figure size 432x288 with 1 Axes>"
      ]
     },
     "metadata": {
      "needs_background": "light"
     },
     "output_type": "display_data"
    }
   ],
   "source": [
    "# card 6 tells us whether the card used in transaction is for credit or debit \n",
    "# since we have unique values we use the same process we did on card 4 \n",
    "\n",
    "train_card6 = (train[~train['card6'].isnull()].groupby(['isFraud'])['card6']\n",
    "                     .value_counts(normalize=True)\n",
    "                     .rename('percentage')\n",
    "                     .mul(100)\n",
    "                     .reset_index()\n",
    "                     .sort_values('card6'))\n",
    "sns.barplot(x=\"card6\", y=\"percentage\", hue=\"isFraud\", data=train_card6)"
   ]
  },
  {
   "cell_type": "markdown",
   "id": "8b3a85f4",
   "metadata": {},
   "source": [
    "- credit card holders have high chance of having fraud transaction than debit card holders\n",
    "- charge card and debit or credit cards have 0% affect on data set so lets replace them into one."
   ]
  },
  {
   "cell_type": "code",
   "execution_count": 38,
   "id": "0285d9a7",
   "metadata": {},
   "outputs": [],
   "source": [
    "def replaceToOther(value):\n",
    "    if value==np.nan:\n",
    "        return value\n",
    "    if value=='debit or credit' or value=='charge card':\n",
    "        return 'debit'\n",
    "    else:\n",
    "        return value\n",
    "train['card6'] = train['card6'].apply(replaceToOther)"
   ]
  },
  {
   "cell_type": "markdown",
   "id": "f3868a32",
   "metadata": {},
   "source": [
    "**Analysis of address columns**\n",
    "\n",
    "- address 1 is the purchaser zip code\n",
    "- address 2 is the billing country"
   ]
  },
  {
   "cell_type": "code",
   "execution_count": 39,
   "id": "f5348fa7",
   "metadata": {},
   "outputs": [
    {
     "data": {
      "text/plain": [
       "count    524834.000000\n",
       "mean        290.733794\n",
       "std         101.741072\n",
       "min         100.000000\n",
       "25%         204.000000\n",
       "50%         299.000000\n",
       "75%         330.000000\n",
       "max         540.000000\n",
       "Name: addr1, dtype: float64"
      ]
     },
     "execution_count": 39,
     "metadata": {},
     "output_type": "execute_result"
    }
   ],
   "source": [
    "train_transaction['addr1'].describe()"
   ]
  },
  {
   "cell_type": "code",
   "execution_count": 40,
   "id": "aed986bc",
   "metadata": {},
   "outputs": [
    {
     "name": "stderr",
     "output_type": "stream",
     "text": [
      "C:\\Users\\91733\\anaconda3\\lib\\site-packages\\seaborn\\distributions.py:2557: FutureWarning: `distplot` is a deprecated function and will be removed in a future version. Please adapt your code to use either `displot` (a figure-level function with similar flexibility) or `histplot` (an axes-level function for histograms).\n",
      "  warnings.warn(msg, FutureWarning)\n",
      "C:\\Users\\91733\\anaconda3\\lib\\site-packages\\seaborn\\distributions.py:2557: FutureWarning: `distplot` is a deprecated function and will be removed in a future version. Please adapt your code to use either `displot` (a figure-level function with similar flexibility) or `histplot` (an axes-level function for histograms).\n",
      "  warnings.warn(msg, FutureWarning)\n"
     ]
    },
    {
     "data": {
      "text/plain": [
       "<matplotlib.legend.Legend at 0x23634725ee0>"
      ]
     },
     "execution_count": 40,
     "metadata": {},
     "output_type": "execute_result"
    },
    {
     "data": {
      "image/png": "[encoded data removed]",
      "text/plain": [
       "<Figure size 432x288 with 1 Axes>"
      ]
     },
     "metadata": {
      "needs_background": "light"
     },
     "output_type": "display_data"
    }
   ],
   "source": [
    "# plotting fraudulant transactions based on address column in data set\n",
    "sns.distplot(train[(train['isFraud']==0) & (~train['addr1'].isnull())]['addr1'])\n",
    "sns.distplot(train[(train['isFraud']==1) & (~train['addr1'].isnull())]['addr1'])\n",
    "plt.legend(['Legit','Fraud'])"
   ]
  },
  {
   "cell_type": "code",
   "execution_count": 41,
   "id": "9b355a31",
   "metadata": {},
   "outputs": [
    {
     "data": {
      "text/plain": [
       "count    524834.000000\n",
       "mean         86.800630\n",
       "std           2.690623\n",
       "min          10.000000\n",
       "25%          87.000000\n",
       "50%          87.000000\n",
       "75%          87.000000\n",
       "max         102.000000\n",
       "Name: addr2, dtype: float64"
      ]
     },
     "execution_count": 41,
     "metadata": {},
     "output_type": "execute_result"
    }
   ],
   "source": [
    "# Similarily for address 2 \n",
    "train_transaction['addr2'].describe()"
   ]
  },
  {
   "cell_type": "code",
   "execution_count": 42,
   "id": "96313e53",
   "metadata": {},
   "outputs": [
    {
     "name": "stderr",
     "output_type": "stream",
     "text": [
      "C:\\Users\\91733\\anaconda3\\lib\\site-packages\\seaborn\\distributions.py:2557: FutureWarning: `distplot` is a deprecated function and will be removed in a future version. Please adapt your code to use either `displot` (a figure-level function with similar flexibility) or `histplot` (an axes-level function for histograms).\n",
      "  warnings.warn(msg, FutureWarning)\n",
      "C:\\Users\\91733\\anaconda3\\lib\\site-packages\\seaborn\\distributions.py:2557: FutureWarning: `distplot` is a deprecated function and will be removed in a future version. Please adapt your code to use either `displot` (a figure-level function with similar flexibility) or `histplot` (an axes-level function for histograms).\n",
      "  warnings.warn(msg, FutureWarning)\n"
     ]
    },
    {
     "data": {
      "text/plain": [
       "<matplotlib.legend.Legend at 0x2363433b100>"
      ]
     },
     "execution_count": 42,
     "metadata": {},
     "output_type": "execute_result"
    },
    {
     "data": {
      "image/png": "[encoded data removed]",
      "text/plain": [
       "<Figure size 432x288 with 1 Axes>"
      ]
     },
     "metadata": {
      "needs_background": "light"
     },
     "output_type": "display_data"
    }
   ],
   "source": [
    "# plotting fraudulant transactions based on address column in data set\n",
    "sns.distplot(train[(train['isFraud']==0) & (~train['addr2'].isnull())]['addr2'])\n",
    "sns.distplot(train[(train['isFraud']==1) & (~train['addr2'].isnull())]['addr2'])\n",
    "plt.legend(['Legit','Fraud'])"
   ]
  },
  {
   "cell_type": "markdown",
   "id": "cbc72e4d",
   "metadata": {},
   "source": [
    "- Most of the data is from 80-100 which means that most of the data is from a particular country. \n",
    "- Now lets check whether this is true or not"
   ]
  },
  {
   "cell_type": "code",
   "execution_count": 43,
   "id": "e9db1bb3",
   "metadata": {
    "scrolled": true
   },
   "outputs": [
    {
     "data": {
      "text/plain": [
       "87.0    520479\n",
       "60.0      3084\n",
       "96.0       638\n",
       "32.0        91\n",
       "65.0        82\n",
       "         ...  \n",
       "50.0         1\n",
       "15.0         1\n",
       "25.0         1\n",
       "82.0         1\n",
       "22.0         1\n",
       "Name: addr2, Length: 74, dtype: int64"
      ]
     },
     "execution_count": 43,
     "metadata": {},
     "output_type": "execute_result"
    }
   ],
   "source": [
    "train['addr2'].value_counts()"
   ]
  },
  {
   "cell_type": "code",
   "execution_count": 44,
   "id": "b1567032",
   "metadata": {},
   "outputs": [
    {
     "name": "stdout",
     "output_type": "stream",
     "text": [
      "country with code 87 has  88.14 % of total data\n"
     ]
    }
   ],
   "source": [
    "print('country with code 87 has ',np.round(520479/train.shape[0]*100,2), '% of total data')"
   ]
  },
  {
   "cell_type": "markdown",
   "id": "94f583b9",
   "metadata": {},
   "source": [
    "- As you can see more than half a million values are from a country with code 87, which is interesting."
   ]
  },
  {
   "cell_type": "markdown",
   "id": "8c557bb8",
   "metadata": {},
   "source": [
    "**Analysis for P_emaildomain and R_emaildomain**"
   ]
  },
  {
   "cell_type": "code",
   "execution_count": 45,
   "id": "e17ba6ca",
   "metadata": {},
   "outputs": [
    {
     "data": {
      "text/plain": [
       "gmail.com        228355\n",
       "yahoo.com        100932\n",
       "hotmail.com       45250\n",
       "anonymous.com     36998\n",
       "aol.com           28289\n",
       "comcast.net        7888\n",
       "icloud.com         6267\n",
       "outlook.com        5096\n",
       "msn.com            4092\n",
       "att.net            4033\n",
       "Name: P_emaildomain, dtype: int64"
      ]
     },
     "execution_count": 45,
     "metadata": {},
     "output_type": "execute_result"
    }
   ],
   "source": [
    "train['P_emaildomain'].value_counts()[:10]"
   ]
  },
  {
   "cell_type": "markdown",
   "id": "893272e0",
   "metadata": {},
   "source": [
    "- As we can see we have mails from different domains, we can find out which domain has suffered from most fraudulant transactions\n"
   ]
  },
  {
   "cell_type": "code",
   "execution_count": 46,
   "id": "960ff0b3",
   "metadata": {},
   "outputs": [],
   "source": [
    "# return domain function here splits P_emaildomain column into two arrays, one before dot and one after dot\n",
    "# before .(dot) we have the domain of the email. After domain we have the extension of the email\n",
    "# We use domain to plot fraud transactions\n",
    "\n",
    "def returndomain(email):\n",
    "    return email.split(\".\")[0]\n",
    "train['edomain'] = train[~train['P_emaildomain'].isnull()]['P_emaildomain'].apply(returndomain)"
   ]
  },
  {
   "cell_type": "code",
   "execution_count": 47,
   "id": "043dd572",
   "metadata": {},
   "outputs": [],
   "source": [
    "# train_email has the new features values sorted and has percentage of total data\n",
    "train_email = (train.groupby(['isFraud'])['edomain']\n",
    "                     .value_counts(normalize=True)\n",
    "                     .rename('percentage')\n",
    "                     .mul(100)\n",
    "                     .reset_index()\n",
    "                     .sort_values('edomain'))"
   ]
  },
  {
   "cell_type": "code",
   "execution_count": 48,
   "id": "042688fa",
   "metadata": {},
   "outputs": [
    {
     "data": {
      "text/plain": [
       "(array([ 0,  1,  2,  3,  4,  5,  6,  7,  8,  9, 10, 11, 12, 13, 14, 15, 16,\n",
       "        17, 18, 19, 20, 21, 22, 23, 24, 25, 26, 27, 28, 29, 30, 31, 32, 33,\n",
       "        34, 35, 36, 37, 38, 39, 40, 41, 42, 43]),\n",
       " [Text(0, 0, 'aim'),\n",
       "  Text(1, 0, 'anonymous'),\n",
       "  Text(2, 0, 'aol'),\n",
       "  Text(3, 0, 'att'),\n",
       "  Text(4, 0, 'bellsouth'),\n",
       "  Text(5, 0, 'cableone'),\n",
       "  Text(6, 0, 'centurylink'),\n",
       "  Text(7, 0, 'cfl'),\n",
       "  Text(8, 0, 'charter'),\n",
       "  Text(9, 0, 'comcast'),\n",
       "  Text(10, 0, 'cox'),\n",
       "  Text(11, 0, 'earthlink'),\n",
       "  Text(12, 0, 'embarqmail'),\n",
       "  Text(13, 0, 'frontier'),\n",
       "  Text(14, 0, 'frontiernet'),\n",
       "  Text(15, 0, 'gmail'),\n",
       "  Text(16, 0, 'gmx'),\n",
       "  Text(17, 0, 'hotmail'),\n",
       "  Text(18, 0, 'icloud'),\n",
       "  Text(19, 0, 'juno'),\n",
       "  Text(20, 0, 'live'),\n",
       "  Text(21, 0, 'mac'),\n",
       "  Text(22, 0, 'mail'),\n",
       "  Text(23, 0, 'me'),\n",
       "  Text(24, 0, 'msn'),\n",
       "  Text(25, 0, 'netzero'),\n",
       "  Text(26, 0, 'optonline'),\n",
       "  Text(27, 0, 'outlook'),\n",
       "  Text(28, 0, 'prodigy'),\n",
       "  Text(29, 0, 'protonmail'),\n",
       "  Text(30, 0, 'ptd'),\n",
       "  Text(31, 0, 'q'),\n",
       "  Text(32, 0, 'roadrunner'),\n",
       "  Text(33, 0, 'rocketmail'),\n",
       "  Text(34, 0, 'sbcglobal'),\n",
       "  Text(35, 0, 'sc'),\n",
       "  Text(36, 0, 'servicios-ta'),\n",
       "  Text(37, 0, 'suddenlink'),\n",
       "  Text(38, 0, 'twc'),\n",
       "  Text(39, 0, 'verizon'),\n",
       "  Text(40, 0, 'web'),\n",
       "  Text(41, 0, 'windstream'),\n",
       "  Text(42, 0, 'yahoo'),\n",
       "  Text(43, 0, 'ymail')])"
      ]
     },
     "execution_count": 48,
     "metadata": {},
     "output_type": "execute_result"
    },
    {
     "data": {
      "image/png": "[encoded data removed]",
      "text/plain": [
       "<Figure size 432x288 with 1 Axes>"
      ]
     },
     "metadata": {
      "needs_background": "light"
     },
     "output_type": "display_data"
    }
   ],
   "source": [
    "# xticks function : Get or set the current tick locations and labels of the x-axis\n",
    "sns.barplot(x=\"edomain\", y=\"percentage\", hue=\"isFraud\", data=train_email)\n",
    "plt.xticks(rotation = 90)"
   ]
  },
  {
   "cell_type": "markdown",
   "id": "1dad790d",
   "metadata": {},
   "source": [
    "- from the function returndomain, we have two features domain name and its extension \n",
    "- also from the figure most of the data has email from gmail domain which is fair to say also has more fraud transactions. \n",
    "- hotmail is the only domain which has more fraud transactions than legit transactions. "
   ]
  },
  {
   "cell_type": "markdown",
   "id": "d5c6a5a0",
   "metadata": {},
   "source": [
    "**Analysis for C1 - C14 columns**"
   ]
  },
  {
   "cell_type": "markdown",
   "id": "1312955e",
   "metadata": {},
   "source": [
    "We could use the same describe function and then plot it's distribution with respect to isFraud column for every feature from C1 to C14 but instead I am creating a correlation matrix which probably best to find relation between them."
   ]
  },
  {
   "cell_type": "code",
   "execution_count": 49,
   "id": "df325acd",
   "metadata": {},
   "outputs": [],
   "source": [
    "correlation_between_c = train[['C1','C2','C3','C4','C5','C6','C7','C8','C9','C10','C11','C12','C13','C14','isFraud']]"
   ]
  },
  {
   "cell_type": "code",
   "execution_count": 50,
   "id": "6aefc861",
   "metadata": {},
   "outputs": [],
   "source": [
    "# corr() functions calculates the correlations between columns in the data frame\n",
    "# I am using a data frame which has 'C' features and 'isFraud' column\n",
    "\n",
    "cr = correlation_between_c.corr()"
   ]
  },
  {
   "cell_type": "code",
   "execution_count": 51,
   "id": "070f0158",
   "metadata": {
    "scrolled": false
   },
   "outputs": [
    {
     "data": {
      "text/plain": [
       "<AxesSubplot:>"
      ]
     },
     "execution_count": 51,
     "metadata": {},
     "output_type": "execute_result"
    },
    {
     "data": {
      "image/png": "[encoded data removed]",
      "text/plain": [
       "<Figure size 1296x1296 with 2 Axes>"
      ]
     },
     "metadata": {
      "needs_background": "light"
     },
     "output_type": "display_data"
    }
   ],
   "source": [
    "# figsize is used to give size of the figure and from seaborn library we are using heatmap to visualize relationship\n",
    "# annot : If True, write the data value in each cell. Generally used if data is array like instead of data\n",
    "\n",
    "plt.figure(1,figsize=(18,18))\n",
    "sns.heatmap(cr,annot=True)"
   ]
  },
  {
   "cell_type": "markdown",
   "id": "db44a5bd",
   "metadata": {},
   "source": [
    "- from the heatmap, every 'C' feature has no correlation to isFraud column\n",
    "- also some features are highly correlated like C1 and C4, C1 and C6, C6 and C11\n",
    "- Don't know what this means until we go to modelling by removing these features and checking accuracy score"
   ]
  },
  {
   "cell_type": "markdown",
   "id": "150b2f28",
   "metadata": {},
   "source": [
    "**Analysis for D features i.e., D1 to D15**\n",
    "\n",
    "- Just like for C features we will be using correlation matrix for D features"
   ]
  },
  {
   "cell_type": "code",
   "execution_count": 52,
   "id": "5f780f82",
   "metadata": {},
   "outputs": [],
   "source": [
    "#lets find the corelation between these D features with 'isFraud' features\n",
    "cor_d = train[['D1','D2','D3','D4','D5','D6','D7','D8','D9','D10','D11','D12','D13','D14','D15','isFraud']]"
   ]
  },
  {
   "cell_type": "code",
   "execution_count": 53,
   "id": "d8b7fb5a",
   "metadata": {},
   "outputs": [],
   "source": [
    "f = cor_d.corr()"
   ]
  },
  {
   "cell_type": "code",
   "execution_count": 54,
   "id": "03afc594",
   "metadata": {},
   "outputs": [
    {
     "data": {
      "text/plain": [
       "<AxesSubplot:>"
      ]
     },
     "execution_count": 54,
     "metadata": {},
     "output_type": "execute_result"
    },
    {
     "data": {
      "image/png": "[encoded data removed]",
      "text/plain": [
       "<Figure size 1296x1296 with 2 Axes>"
      ]
     },
     "metadata": {
      "needs_background": "light"
     },
     "output_type": "display_data"
    }
   ],
   "source": [
    "plt.figure(1,figsize=(18,18))\n",
    "sns.heatmap(f,annot=True)"
   ]
  },
  {
   "cell_type": "markdown",
   "id": "00156f55",
   "metadata": {},
   "source": [
    "- Highly correlated features are  'D4 and D12' and 'D6 and D12' and 'D5 and D7'"
   ]
  },
  {
   "cell_type": "markdown",
   "id": "6ba48bf8",
   "metadata": {},
   "source": [
    "**Data Analysis for M features**"
   ]
  },
  {
   "cell_type": "code",
   "execution_count": 57,
   "id": "af68a2e7",
   "metadata": {},
   "outputs": [
    {
     "name": "stdout",
     "output_type": "stream",
     "text": [
      "T    313071\n",
      "F        25\n",
      "Name: M1, dtype: int64\n",
      "T    6342\n",
      "Name: M1, dtype: int64\n",
      "\n",
      "\n",
      "\n",
      "T    280308\n",
      "F     32788\n",
      "Name: M2, dtype: int64\n",
      "T    5158\n",
      "F    1184\n",
      "Name: M2, dtype: int64\n",
      "\n",
      "\n",
      "\n",
      "T    247436\n",
      "F     65660\n",
      "Name: M3, dtype: int64\n",
      "T    4293\n",
      "F    2049\n",
      "Name: M3, dtype: int64\n",
      "\n",
      "\n",
      "\n",
      "M0    189207\n",
      "M2     53056\n",
      "M1     51397\n",
      "Name: M4, dtype: int64\n",
      "M0    7198\n",
      "M2    6809\n",
      "M1    1429\n",
      "Name: M4, dtype: int64\n",
      "\n",
      "\n",
      "\n",
      "F    128977\n",
      "T    103512\n",
      "Name: M5, dtype: int64\n",
      "T    4055\n",
      "F    3514\n",
      "Name: M5, dtype: int64\n",
      "\n",
      "\n",
      "\n",
      "F    222459\n",
      "T    190029\n",
      "Name: M6, dtype: int64\n",
      "F    5397\n",
      "T    3295\n",
      "Name: M6, dtype: int64\n",
      "\n",
      "\n",
      "\n",
      "F    207283\n",
      "T     32173\n",
      "Name: M7, dtype: int64\n",
      "F    4089\n",
      "T     728\n",
      "Name: M7, dtype: int64\n",
      "\n",
      "\n",
      "\n",
      "F    151876\n",
      "T     87593\n",
      "Name: M8, dtype: int64\n",
      "F    3373\n",
      "T    1444\n",
      "Name: M8, dtype: int64\n",
      "\n",
      "\n",
      "\n",
      "T    201996\n",
      "F     37473\n",
      "Name: M9, dtype: int64\n",
      "T    3658\n",
      "F    1159\n",
      "Name: M9, dtype: int64\n",
      "\n",
      "\n",
      "\n"
     ]
    }
   ],
   "source": [
    "# Finding out what type of values and how many unique values are there in each 'M' feature using value_counts()\n",
    "\n",
    "for i in ['M1','M2','M3','M4','M5','M6','M7','M8','M9']:\n",
    "    print(train[(~train[i].isnull())&(train['isFraud']==0)][i].value_counts())\n",
    "    print(train[(~train[i].isnull())&(train['isFraud']==1)][i].value_counts())\n",
    "    print('\\n\\n')"
   ]
  },
  {
   "cell_type": "markdown",
   "id": "c688b3e1",
   "metadata": {},
   "source": [
    "\n",
    "- Most of the M features are binary distributed i.e., 0 and 1 \n",
    "- Except M4 feature which has 3 unique values, M0, M1, M2"
   ]
  },
  {
   "cell_type": "markdown",
   "id": "9449174a",
   "metadata": {},
   "source": [
    "**Data Analysis on V features**\n",
    "\n",
    "- In the transaction data set we have 339 V features. We cannot visualize them one by one.\n",
    "- First we'll seperate V features and then see what can we find out."
   ]
  },
  {
   "cell_type": "code",
   "execution_count": 58,
   "id": "316b8ad5",
   "metadata": {},
   "outputs": [],
   "source": [
    "# seperating vfeatures from rest of the features. \n",
    "v_features = []\n",
    "for i in train.columns:\n",
    "    if 'V' in i:\n",
    "        v_features.append(i)"
   ]
  },
  {
   "cell_type": "code",
   "execution_count": 69,
   "id": "2b139aa0",
   "metadata": {},
   "outputs": [],
   "source": [
    "# creating a data frame of v features.\n",
    "v_features_df = train_transaction[v_features]"
   ]
  },
  {
   "cell_type": "code",
   "execution_count": 70,
   "id": "75822619",
   "metadata": {},
   "outputs": [
    {
     "data": {
      "text/html": [
       "<div>\n",
       "<style scoped>\n",
       "    .dataframe tbody tr th:only-of-type {\n",
       "        vertical-align: middle;\n",
       "    }\n",
       "\n",
       "    .dataframe tbody tr th {\n",
       "        vertical-align: top;\n",
       "    }\n",
       "\n",
       "    .dataframe thead th {\n",
       "        text-align: right;\n",
       "    }\n",
       "</style>\n",
       "<table border=\"1\" class=\"dataframe\">\n",
       "  <thead>\n",
       "    <tr style=\"text-align: right;\">\n",
       "      <th></th>\n",
       "      <th>V1</th>\n",
       "      <th>V2</th>\n",
       "      <th>V3</th>\n",
       "      <th>V4</th>\n",
       "      <th>V5</th>\n",
       "      <th>V6</th>\n",
       "      <th>V7</th>\n",
       "      <th>V8</th>\n",
       "      <th>V9</th>\n",
       "      <th>V10</th>\n",
       "      <th>...</th>\n",
       "      <th>V330</th>\n",
       "      <th>V331</th>\n",
       "      <th>V332</th>\n",
       "      <th>V333</th>\n",
       "      <th>V334</th>\n",
       "      <th>V335</th>\n",
       "      <th>V336</th>\n",
       "      <th>V337</th>\n",
       "      <th>V338</th>\n",
       "      <th>V339</th>\n",
       "    </tr>\n",
       "  </thead>\n",
       "  <tbody>\n",
       "    <tr>\n",
       "      <th>0</th>\n",
       "      <td>1.0</td>\n",
       "      <td>1.0</td>\n",
       "      <td>1.0</td>\n",
       "      <td>1.0</td>\n",
       "      <td>1.0</td>\n",
       "      <td>1.0</td>\n",
       "      <td>1.0</td>\n",
       "      <td>1.0</td>\n",
       "      <td>1.0</td>\n",
       "      <td>0.0</td>\n",
       "      <td>...</td>\n",
       "      <td>NaN</td>\n",
       "      <td>NaN</td>\n",
       "      <td>NaN</td>\n",
       "      <td>NaN</td>\n",
       "      <td>NaN</td>\n",
       "      <td>NaN</td>\n",
       "      <td>NaN</td>\n",
       "      <td>NaN</td>\n",
       "      <td>NaN</td>\n",
       "      <td>NaN</td>\n",
       "    </tr>\n",
       "    <tr>\n",
       "      <th>1</th>\n",
       "      <td>NaN</td>\n",
       "      <td>NaN</td>\n",
       "      <td>NaN</td>\n",
       "      <td>NaN</td>\n",
       "      <td>NaN</td>\n",
       "      <td>NaN</td>\n",
       "      <td>NaN</td>\n",
       "      <td>NaN</td>\n",
       "      <td>NaN</td>\n",
       "      <td>NaN</td>\n",
       "      <td>...</td>\n",
       "      <td>NaN</td>\n",
       "      <td>NaN</td>\n",
       "      <td>NaN</td>\n",
       "      <td>NaN</td>\n",
       "      <td>NaN</td>\n",
       "      <td>NaN</td>\n",
       "      <td>NaN</td>\n",
       "      <td>NaN</td>\n",
       "      <td>NaN</td>\n",
       "      <td>NaN</td>\n",
       "    </tr>\n",
       "    <tr>\n",
       "      <th>2</th>\n",
       "      <td>1.0</td>\n",
       "      <td>1.0</td>\n",
       "      <td>1.0</td>\n",
       "      <td>1.0</td>\n",
       "      <td>1.0</td>\n",
       "      <td>1.0</td>\n",
       "      <td>1.0</td>\n",
       "      <td>1.0</td>\n",
       "      <td>1.0</td>\n",
       "      <td>0.0</td>\n",
       "      <td>...</td>\n",
       "      <td>NaN</td>\n",
       "      <td>NaN</td>\n",
       "      <td>NaN</td>\n",
       "      <td>NaN</td>\n",
       "      <td>NaN</td>\n",
       "      <td>NaN</td>\n",
       "      <td>NaN</td>\n",
       "      <td>NaN</td>\n",
       "      <td>NaN</td>\n",
       "      <td>NaN</td>\n",
       "    </tr>\n",
       "    <tr>\n",
       "      <th>3</th>\n",
       "      <td>NaN</td>\n",
       "      <td>NaN</td>\n",
       "      <td>NaN</td>\n",
       "      <td>NaN</td>\n",
       "      <td>NaN</td>\n",
       "      <td>NaN</td>\n",
       "      <td>NaN</td>\n",
       "      <td>NaN</td>\n",
       "      <td>NaN</td>\n",
       "      <td>NaN</td>\n",
       "      <td>...</td>\n",
       "      <td>NaN</td>\n",
       "      <td>NaN</td>\n",
       "      <td>NaN</td>\n",
       "      <td>NaN</td>\n",
       "      <td>NaN</td>\n",
       "      <td>NaN</td>\n",
       "      <td>NaN</td>\n",
       "      <td>NaN</td>\n",
       "      <td>NaN</td>\n",
       "      <td>NaN</td>\n",
       "    </tr>\n",
       "    <tr>\n",
       "      <th>4</th>\n",
       "      <td>NaN</td>\n",
       "      <td>NaN</td>\n",
       "      <td>NaN</td>\n",
       "      <td>NaN</td>\n",
       "      <td>NaN</td>\n",
       "      <td>NaN</td>\n",
       "      <td>NaN</td>\n",
       "      <td>NaN</td>\n",
       "      <td>NaN</td>\n",
       "      <td>NaN</td>\n",
       "      <td>...</td>\n",
       "      <td>0.0</td>\n",
       "      <td>0.0</td>\n",
       "      <td>0.0</td>\n",
       "      <td>0.0</td>\n",
       "      <td>0.0</td>\n",
       "      <td>0.0</td>\n",
       "      <td>0.0</td>\n",
       "      <td>0.0</td>\n",
       "      <td>0.0</td>\n",
       "      <td>0.0</td>\n",
       "    </tr>\n",
       "    <tr>\n",
       "      <th>...</th>\n",
       "      <td>...</td>\n",
       "      <td>...</td>\n",
       "      <td>...</td>\n",
       "      <td>...</td>\n",
       "      <td>...</td>\n",
       "      <td>...</td>\n",
       "      <td>...</td>\n",
       "      <td>...</td>\n",
       "      <td>...</td>\n",
       "      <td>...</td>\n",
       "      <td>...</td>\n",
       "      <td>...</td>\n",
       "      <td>...</td>\n",
       "      <td>...</td>\n",
       "      <td>...</td>\n",
       "      <td>...</td>\n",
       "      <td>...</td>\n",
       "      <td>...</td>\n",
       "      <td>...</td>\n",
       "      <td>...</td>\n",
       "      <td>...</td>\n",
       "    </tr>\n",
       "    <tr>\n",
       "      <th>590535</th>\n",
       "      <td>1.0</td>\n",
       "      <td>1.0</td>\n",
       "      <td>1.0</td>\n",
       "      <td>0.0</td>\n",
       "      <td>0.0</td>\n",
       "      <td>1.0</td>\n",
       "      <td>1.0</td>\n",
       "      <td>1.0</td>\n",
       "      <td>1.0</td>\n",
       "      <td>0.0</td>\n",
       "      <td>...</td>\n",
       "      <td>NaN</td>\n",
       "      <td>NaN</td>\n",
       "      <td>NaN</td>\n",
       "      <td>NaN</td>\n",
       "      <td>NaN</td>\n",
       "      <td>NaN</td>\n",
       "      <td>NaN</td>\n",
       "      <td>NaN</td>\n",
       "      <td>NaN</td>\n",
       "      <td>NaN</td>\n",
       "    </tr>\n",
       "    <tr>\n",
       "      <th>590536</th>\n",
       "      <td>1.0</td>\n",
       "      <td>1.0</td>\n",
       "      <td>1.0</td>\n",
       "      <td>1.0</td>\n",
       "      <td>1.0</td>\n",
       "      <td>1.0</td>\n",
       "      <td>1.0</td>\n",
       "      <td>1.0</td>\n",
       "      <td>1.0</td>\n",
       "      <td>0.0</td>\n",
       "      <td>...</td>\n",
       "      <td>NaN</td>\n",
       "      <td>NaN</td>\n",
       "      <td>NaN</td>\n",
       "      <td>NaN</td>\n",
       "      <td>NaN</td>\n",
       "      <td>NaN</td>\n",
       "      <td>NaN</td>\n",
       "      <td>NaN</td>\n",
       "      <td>NaN</td>\n",
       "      <td>NaN</td>\n",
       "    </tr>\n",
       "    <tr>\n",
       "      <th>590537</th>\n",
       "      <td>1.0</td>\n",
       "      <td>1.0</td>\n",
       "      <td>1.0</td>\n",
       "      <td>1.0</td>\n",
       "      <td>1.0</td>\n",
       "      <td>1.0</td>\n",
       "      <td>1.0</td>\n",
       "      <td>1.0</td>\n",
       "      <td>1.0</td>\n",
       "      <td>1.0</td>\n",
       "      <td>...</td>\n",
       "      <td>NaN</td>\n",
       "      <td>NaN</td>\n",
       "      <td>NaN</td>\n",
       "      <td>NaN</td>\n",
       "      <td>NaN</td>\n",
       "      <td>NaN</td>\n",
       "      <td>NaN</td>\n",
       "      <td>NaN</td>\n",
       "      <td>NaN</td>\n",
       "      <td>NaN</td>\n",
       "    </tr>\n",
       "    <tr>\n",
       "      <th>590538</th>\n",
       "      <td>1.0</td>\n",
       "      <td>1.0</td>\n",
       "      <td>1.0</td>\n",
       "      <td>2.0</td>\n",
       "      <td>2.0</td>\n",
       "      <td>1.0</td>\n",
       "      <td>1.0</td>\n",
       "      <td>1.0</td>\n",
       "      <td>1.0</td>\n",
       "      <td>0.0</td>\n",
       "      <td>...</td>\n",
       "      <td>NaN</td>\n",
       "      <td>NaN</td>\n",
       "      <td>NaN</td>\n",
       "      <td>NaN</td>\n",
       "      <td>NaN</td>\n",
       "      <td>NaN</td>\n",
       "      <td>NaN</td>\n",
       "      <td>NaN</td>\n",
       "      <td>NaN</td>\n",
       "      <td>NaN</td>\n",
       "    </tr>\n",
       "    <tr>\n",
       "      <th>590539</th>\n",
       "      <td>1.0</td>\n",
       "      <td>1.0</td>\n",
       "      <td>1.0</td>\n",
       "      <td>1.0</td>\n",
       "      <td>1.0</td>\n",
       "      <td>1.0</td>\n",
       "      <td>1.0</td>\n",
       "      <td>1.0</td>\n",
       "      <td>1.0</td>\n",
       "      <td>1.0</td>\n",
       "      <td>...</td>\n",
       "      <td>NaN</td>\n",
       "      <td>NaN</td>\n",
       "      <td>NaN</td>\n",
       "      <td>NaN</td>\n",
       "      <td>NaN</td>\n",
       "      <td>NaN</td>\n",
       "      <td>NaN</td>\n",
       "      <td>NaN</td>\n",
       "      <td>NaN</td>\n",
       "      <td>NaN</td>\n",
       "    </tr>\n",
       "  </tbody>\n",
       "</table>\n",
       "<p>590540 rows × 339 columns</p>\n",
       "</div>"
      ],
      "text/plain": [
       "         V1   V2   V3   V4   V5   V6   V7   V8   V9  V10  ...  V330  V331  \\\n",
       "0       1.0  1.0  1.0  1.0  1.0  1.0  1.0  1.0  1.0  0.0  ...   NaN   NaN   \n",
       "1       NaN  NaN  NaN  NaN  NaN  NaN  NaN  NaN  NaN  NaN  ...   NaN   NaN   \n",
       "2       1.0  1.0  1.0  1.0  1.0  1.0  1.0  1.0  1.0  0.0  ...   NaN   NaN   \n",
       "3       NaN  NaN  NaN  NaN  NaN  NaN  NaN  NaN  NaN  NaN  ...   NaN   NaN   \n",
       "4       NaN  NaN  NaN  NaN  NaN  NaN  NaN  NaN  NaN  NaN  ...   0.0   0.0   \n",
       "...     ...  ...  ...  ...  ...  ...  ...  ...  ...  ...  ...   ...   ...   \n",
       "590535  1.0  1.0  1.0  0.0  0.0  1.0  1.0  1.0  1.0  0.0  ...   NaN   NaN   \n",
       "590536  1.0  1.0  1.0  1.0  1.0  1.0  1.0  1.0  1.0  0.0  ...   NaN   NaN   \n",
       "590537  1.0  1.0  1.0  1.0  1.0  1.0  1.0  1.0  1.0  1.0  ...   NaN   NaN   \n",
       "590538  1.0  1.0  1.0  2.0  2.0  1.0  1.0  1.0  1.0  0.0  ...   NaN   NaN   \n",
       "590539  1.0  1.0  1.0  1.0  1.0  1.0  1.0  1.0  1.0  1.0  ...   NaN   NaN   \n",
       "\n",
       "        V332  V333  V334  V335  V336  V337  V338  V339  \n",
       "0        NaN   NaN   NaN   NaN   NaN   NaN   NaN   NaN  \n",
       "1        NaN   NaN   NaN   NaN   NaN   NaN   NaN   NaN  \n",
       "2        NaN   NaN   NaN   NaN   NaN   NaN   NaN   NaN  \n",
       "3        NaN   NaN   NaN   NaN   NaN   NaN   NaN   NaN  \n",
       "4        0.0   0.0   0.0   0.0   0.0   0.0   0.0   0.0  \n",
       "...      ...   ...   ...   ...   ...   ...   ...   ...  \n",
       "590535   NaN   NaN   NaN   NaN   NaN   NaN   NaN   NaN  \n",
       "590536   NaN   NaN   NaN   NaN   NaN   NaN   NaN   NaN  \n",
       "590537   NaN   NaN   NaN   NaN   NaN   NaN   NaN   NaN  \n",
       "590538   NaN   NaN   NaN   NaN   NaN   NaN   NaN   NaN  \n",
       "590539   NaN   NaN   NaN   NaN   NaN   NaN   NaN   NaN  \n",
       "\n",
       "[590540 rows x 339 columns]"
      ]
     },
     "execution_count": 70,
     "metadata": {},
     "output_type": "execute_result"
    }
   ],
   "source": [
    "v_features_df"
   ]
  },
  {
   "cell_type": "code",
   "execution_count": 71,
   "id": "85e61200",
   "metadata": {},
   "outputs": [
    {
     "data": {
      "text/plain": [
       "V1      279287\n",
       "V2      279287\n",
       "V3      279287\n",
       "V4      279287\n",
       "V5      279287\n",
       "         ...  \n",
       "V335    508189\n",
       "V336    508189\n",
       "V337    508189\n",
       "V338    508189\n",
       "V339    508189\n",
       "Length: 339, dtype: int64"
      ]
     },
     "execution_count": 71,
     "metadata": {},
     "output_type": "execute_result"
    }
   ],
   "source": [
    "# number of NaN values in each V features.\n",
    "v_features_df.isna().sum()"
   ]
  },
  {
   "cell_type": "code",
   "execution_count": 72,
   "id": "29ab30fb",
   "metadata": {
    "scrolled": true
   },
   "outputs": [
    {
     "name": "stdout",
     "output_type": "stream",
     "text": [
      "<class 'pandas.core.frame.DataFrame'>\n",
      "RangeIndex: 590540 entries, 0 to 590539\n",
      "Columns: 339 entries, V1 to V339\n",
      "dtypes: float64(339)\n",
      "memory usage: 1.5 GB\n"
     ]
    }
   ],
   "source": [
    "# info() gives us number of rows, columns, data type and memory usage of the data frame. \n",
    "\n",
    "v_features_df.info()"
   ]
  },
  {
   "cell_type": "code",
   "execution_count": 73,
   "id": "5dc69ddb",
   "metadata": {},
   "outputs": [],
   "source": [
    "# deleting it to save memory usage.\n",
    "del v_features_df"
   ]
  },
  {
   "cell_type": "markdown",
   "id": "f68d6f12",
   "metadata": {},
   "source": [
    "- All the V features are float type\n",
    "- Almost every V feature has higher NaN values\n",
    "- We have to do fill or remove NaN values before applying model."
   ]
  },
  {
   "cell_type": "markdown",
   "id": "17dff598",
   "metadata": {},
   "source": [
    "**Data Analysis on DeviceInfo and DeviceType**"
   ]
  },
  {
   "cell_type": "code",
   "execution_count": 75,
   "id": "3e2a2ae7",
   "metadata": {},
   "outputs": [
    {
     "data": {
      "text/plain": [
       "Windows            47722\n",
       "iOS Device         19782\n",
       "MacOS              12573\n",
       "Trident/7.0         7440\n",
       "rv:11.0             1901\n",
       "                   ...  \n",
       "SCH-I435               1\n",
       "Z812                   1\n",
       "LG-H810/H81021z        1\n",
       "Fusion5_u7             1\n",
       "WAS-LX2J               1\n",
       "Name: DeviceInfo, Length: 1786, dtype: int64"
      ]
     },
     "execution_count": 75,
     "metadata": {},
     "output_type": "execute_result"
    }
   ],
   "source": [
    "# number of unique values present in Device Info\n",
    "train['DeviceInfo'].value_counts()"
   ]
  },
  {
   "cell_type": "markdown",
   "id": "fc51702a",
   "metadata": {},
   "source": [
    "- There are 1786 devices used in the transaction which is a lot. "
   ]
  },
  {
   "cell_type": "code",
   "execution_count": 76,
   "id": "80665697",
   "metadata": {},
   "outputs": [
    {
     "data": {
      "text/plain": [
       "<AxesSubplot:xlabel='DeviceType', ylabel='percentage'>"
      ]
     },
     "execution_count": 76,
     "metadata": {},
     "output_type": "execute_result"
    },
    {
     "data": {
      "image/png": "[encoded data removed]",
      "text/plain": [
       "<Figure size 432x288 with 1 Axes>"
      ]
     },
     "metadata": {
      "needs_background": "light"
     },
     "output_type": "display_data"
    }
   ],
   "source": [
    "# DeviceType\n",
    "\n",
    "DeviceType = (train.groupby(['isFraud'])['DeviceType']\n",
    "                     .value_counts(normalize=True)\n",
    "                     .rename('percentage')\n",
    "                     .mul(100)\n",
    "                     .reset_index()\n",
    "                     .sort_values('DeviceType'))\n",
    "sns.barplot(x=\"DeviceType\", y=\"percentage\", hue=\"isFraud\", data=DeviceType)"
   ]
  },
  {
   "cell_type": "markdown",
   "id": "d0a53107",
   "metadata": {},
   "source": [
    "- From the plot, mobile transactions are mostly fraudulant.\n",
    "- Both desktop and mobile same percentage of fraudulant transactions. "
   ]
  },
  {
   "cell_type": "markdown",
   "id": "c8afda02",
   "metadata": {},
   "source": [
    "# Feature Engineering and Selection"
   ]
  },
  {
   "cell_type": "markdown",
   "id": "35efad76",
   "metadata": {},
   "source": [
    "- In this part, we'll decide which features should we use and what other transformations or functions should we use so as to make our data set ready to use on ML model"
   ]
  },
  {
   "cell_type": "code",
   "execution_count": 79,
   "id": "05b84a82",
   "metadata": {},
   "outputs": [
    {
     "data": {
      "text/plain": [
       "['id_12',\n",
       " 'id_15',\n",
       " 'id_16',\n",
       " 'id_23',\n",
       " 'id_27',\n",
       " 'id_28',\n",
       " 'id_29',\n",
       " 'id_30',\n",
       " 'id_31',\n",
       " 'id_33',\n",
       " 'id_34',\n",
       " 'id_35',\n",
       " 'id_36',\n",
       " 'id_37',\n",
       " 'id_38',\n",
       " 'DeviceType',\n",
       " 'DeviceInfo']"
      ]
     },
     "execution_count": 79,
     "metadata": {},
     "output_type": "execute_result"
    }
   ],
   "source": [
    "# Let's start with identity data set\n",
    "# finding out what are categorical features\n",
    "# Categorical features are features of data type 'object'\n",
    "\n",
    "categorical = [feature for feature in train_identity.columns if train_identity[feature].dtype=='O']\n",
    "categorical"
   ]
  },
  {
   "cell_type": "code",
   "execution_count": 82,
   "id": "81695f81",
   "metadata": {},
   "outputs": [
    {
     "name": "stdout",
     "output_type": "stream",
     "text": [
      "id_12: 0.0% missing values\n",
      "id_15: 2.2519% missing values\n",
      "id_16: 10.3257% missing values\n",
      "id_23: 96.4162% missing values\n",
      "id_27: 96.4162% missing values\n",
      "id_28: 2.2568% missing values\n",
      "id_29: 2.2568% missing values\n",
      "id_30: 46.2224% missing values\n",
      "id_31: 2.7393% missing values\n",
      "id_33: 49.1871% missing values\n",
      "id_34: 46.056% missing values\n",
      "id_35: 2.2519% missing values\n",
      "id_36: 2.2519% missing values\n",
      "id_37: 2.2519% missing values\n",
      "id_38: 2.2519% missing values\n",
      "DeviceType: 2.3732% missing values\n",
      "DeviceInfo: 17.7262% missing values\n"
     ]
    }
   ],
   "source": [
    "# now that we've found out what are categorical features, let's calculate %NaN values present in them.\n",
    "\n",
    "for feature in categorical:\n",
    "    print(\"{}: {}% missing values\".format(feature,np.round(train_identity[feature].isnull().mul(100).mean(),4)))"
   ]
  },
  {
   "cell_type": "markdown",
   "id": "df3e24ed",
   "metadata": {},
   "source": [
    "- Since categorical values are important in ML model, we'll remove those features whose %NaN values are high.\n",
    "- In this case id_23 and id_27 which have 96% of NaN values in them."
   ]
  },
  {
   "cell_type": "code",
   "execution_count": 83,
   "id": "f08b4eb0",
   "metadata": {},
   "outputs": [
    {
     "data": {
      "text/html": [
       "<div>\n",
       "<style scoped>\n",
       "    .dataframe tbody tr th:only-of-type {\n",
       "        vertical-align: middle;\n",
       "    }\n",
       "\n",
       "    .dataframe tbody tr th {\n",
       "        vertical-align: top;\n",
       "    }\n",
       "\n",
       "    .dataframe thead th {\n",
       "        text-align: right;\n",
       "    }\n",
       "</style>\n",
       "<table border=\"1\" class=\"dataframe\">\n",
       "  <thead>\n",
       "    <tr style=\"text-align: right;\">\n",
       "      <th></th>\n",
       "      <th>TransactionID</th>\n",
       "      <th>id_01</th>\n",
       "      <th>id_02</th>\n",
       "      <th>id_03</th>\n",
       "      <th>id_04</th>\n",
       "      <th>id_05</th>\n",
       "      <th>id_06</th>\n",
       "      <th>id_07</th>\n",
       "      <th>id_08</th>\n",
       "      <th>id_09</th>\n",
       "      <th>...</th>\n",
       "      <th>id_31</th>\n",
       "      <th>id_32</th>\n",
       "      <th>id_33</th>\n",
       "      <th>id_34</th>\n",
       "      <th>id_35</th>\n",
       "      <th>id_36</th>\n",
       "      <th>id_37</th>\n",
       "      <th>id_38</th>\n",
       "      <th>DeviceType</th>\n",
       "      <th>DeviceInfo</th>\n",
       "    </tr>\n",
       "  </thead>\n",
       "  <tbody>\n",
       "    <tr>\n",
       "      <th>0</th>\n",
       "      <td>2987004</td>\n",
       "      <td>0.0</td>\n",
       "      <td>70787.0</td>\n",
       "      <td>NaN</td>\n",
       "      <td>NaN</td>\n",
       "      <td>NaN</td>\n",
       "      <td>NaN</td>\n",
       "      <td>NaN</td>\n",
       "      <td>NaN</td>\n",
       "      <td>NaN</td>\n",
       "      <td>...</td>\n",
       "      <td>samsung browser 6.2</td>\n",
       "      <td>32.0</td>\n",
       "      <td>2220x1080</td>\n",
       "      <td>match_status:2</td>\n",
       "      <td>T</td>\n",
       "      <td>F</td>\n",
       "      <td>T</td>\n",
       "      <td>T</td>\n",
       "      <td>mobile</td>\n",
       "      <td>SAMSUNG SM-G892A Build/NRD90M</td>\n",
       "    </tr>\n",
       "    <tr>\n",
       "      <th>1</th>\n",
       "      <td>2987008</td>\n",
       "      <td>-5.0</td>\n",
       "      <td>98945.0</td>\n",
       "      <td>NaN</td>\n",
       "      <td>NaN</td>\n",
       "      <td>0.0</td>\n",
       "      <td>-5.0</td>\n",
       "      <td>NaN</td>\n",
       "      <td>NaN</td>\n",
       "      <td>NaN</td>\n",
       "      <td>...</td>\n",
       "      <td>mobile safari 11.0</td>\n",
       "      <td>32.0</td>\n",
       "      <td>1334x750</td>\n",
       "      <td>match_status:1</td>\n",
       "      <td>T</td>\n",
       "      <td>F</td>\n",
       "      <td>F</td>\n",
       "      <td>T</td>\n",
       "      <td>mobile</td>\n",
       "      <td>iOS Device</td>\n",
       "    </tr>\n",
       "    <tr>\n",
       "      <th>2</th>\n",
       "      <td>2987010</td>\n",
       "      <td>-5.0</td>\n",
       "      <td>191631.0</td>\n",
       "      <td>0.0</td>\n",
       "      <td>0.0</td>\n",
       "      <td>0.0</td>\n",
       "      <td>0.0</td>\n",
       "      <td>NaN</td>\n",
       "      <td>NaN</td>\n",
       "      <td>0.0</td>\n",
       "      <td>...</td>\n",
       "      <td>chrome 62.0</td>\n",
       "      <td>NaN</td>\n",
       "      <td>NaN</td>\n",
       "      <td>NaN</td>\n",
       "      <td>F</td>\n",
       "      <td>F</td>\n",
       "      <td>T</td>\n",
       "      <td>T</td>\n",
       "      <td>desktop</td>\n",
       "      <td>Windows</td>\n",
       "    </tr>\n",
       "    <tr>\n",
       "      <th>3</th>\n",
       "      <td>2987011</td>\n",
       "      <td>-5.0</td>\n",
       "      <td>221832.0</td>\n",
       "      <td>NaN</td>\n",
       "      <td>NaN</td>\n",
       "      <td>0.0</td>\n",
       "      <td>-6.0</td>\n",
       "      <td>NaN</td>\n",
       "      <td>NaN</td>\n",
       "      <td>NaN</td>\n",
       "      <td>...</td>\n",
       "      <td>chrome 62.0</td>\n",
       "      <td>NaN</td>\n",
       "      <td>NaN</td>\n",
       "      <td>NaN</td>\n",
       "      <td>F</td>\n",
       "      <td>F</td>\n",
       "      <td>T</td>\n",
       "      <td>T</td>\n",
       "      <td>desktop</td>\n",
       "      <td>NaN</td>\n",
       "    </tr>\n",
       "    <tr>\n",
       "      <th>4</th>\n",
       "      <td>2987016</td>\n",
       "      <td>0.0</td>\n",
       "      <td>7460.0</td>\n",
       "      <td>0.0</td>\n",
       "      <td>0.0</td>\n",
       "      <td>1.0</td>\n",
       "      <td>0.0</td>\n",
       "      <td>NaN</td>\n",
       "      <td>NaN</td>\n",
       "      <td>0.0</td>\n",
       "      <td>...</td>\n",
       "      <td>chrome 62.0</td>\n",
       "      <td>24.0</td>\n",
       "      <td>1280x800</td>\n",
       "      <td>match_status:2</td>\n",
       "      <td>T</td>\n",
       "      <td>F</td>\n",
       "      <td>T</td>\n",
       "      <td>T</td>\n",
       "      <td>desktop</td>\n",
       "      <td>MacOS</td>\n",
       "    </tr>\n",
       "    <tr>\n",
       "      <th>...</th>\n",
       "      <td>...</td>\n",
       "      <td>...</td>\n",
       "      <td>...</td>\n",
       "      <td>...</td>\n",
       "      <td>...</td>\n",
       "      <td>...</td>\n",
       "      <td>...</td>\n",
       "      <td>...</td>\n",
       "      <td>...</td>\n",
       "      <td>...</td>\n",
       "      <td>...</td>\n",
       "      <td>...</td>\n",
       "      <td>...</td>\n",
       "      <td>...</td>\n",
       "      <td>...</td>\n",
       "      <td>...</td>\n",
       "      <td>...</td>\n",
       "      <td>...</td>\n",
       "      <td>...</td>\n",
       "      <td>...</td>\n",
       "      <td>...</td>\n",
       "    </tr>\n",
       "    <tr>\n",
       "      <th>144228</th>\n",
       "      <td>3577521</td>\n",
       "      <td>-15.0</td>\n",
       "      <td>145955.0</td>\n",
       "      <td>0.0</td>\n",
       "      <td>0.0</td>\n",
       "      <td>0.0</td>\n",
       "      <td>0.0</td>\n",
       "      <td>NaN</td>\n",
       "      <td>NaN</td>\n",
       "      <td>0.0</td>\n",
       "      <td>...</td>\n",
       "      <td>chrome 66.0 for android</td>\n",
       "      <td>NaN</td>\n",
       "      <td>NaN</td>\n",
       "      <td>NaN</td>\n",
       "      <td>F</td>\n",
       "      <td>F</td>\n",
       "      <td>T</td>\n",
       "      <td>F</td>\n",
       "      <td>mobile</td>\n",
       "      <td>F3111 Build/33.3.A.1.97</td>\n",
       "    </tr>\n",
       "    <tr>\n",
       "      <th>144229</th>\n",
       "      <td>3577526</td>\n",
       "      <td>-5.0</td>\n",
       "      <td>172059.0</td>\n",
       "      <td>NaN</td>\n",
       "      <td>NaN</td>\n",
       "      <td>1.0</td>\n",
       "      <td>-5.0</td>\n",
       "      <td>NaN</td>\n",
       "      <td>NaN</td>\n",
       "      <td>NaN</td>\n",
       "      <td>...</td>\n",
       "      <td>chrome 55.0 for android</td>\n",
       "      <td>32.0</td>\n",
       "      <td>855x480</td>\n",
       "      <td>match_status:2</td>\n",
       "      <td>T</td>\n",
       "      <td>F</td>\n",
       "      <td>T</td>\n",
       "      <td>F</td>\n",
       "      <td>mobile</td>\n",
       "      <td>A574BL Build/NMF26F</td>\n",
       "    </tr>\n",
       "    <tr>\n",
       "      <th>144230</th>\n",
       "      <td>3577529</td>\n",
       "      <td>-20.0</td>\n",
       "      <td>632381.0</td>\n",
       "      <td>NaN</td>\n",
       "      <td>NaN</td>\n",
       "      <td>-1.0</td>\n",
       "      <td>-36.0</td>\n",
       "      <td>NaN</td>\n",
       "      <td>NaN</td>\n",
       "      <td>NaN</td>\n",
       "      <td>...</td>\n",
       "      <td>chrome 65.0 for android</td>\n",
       "      <td>NaN</td>\n",
       "      <td>NaN</td>\n",
       "      <td>NaN</td>\n",
       "      <td>F</td>\n",
       "      <td>F</td>\n",
       "      <td>T</td>\n",
       "      <td>F</td>\n",
       "      <td>mobile</td>\n",
       "      <td>Moto E (4) Plus Build/NMA26.42-152</td>\n",
       "    </tr>\n",
       "    <tr>\n",
       "      <th>144231</th>\n",
       "      <td>3577531</td>\n",
       "      <td>-5.0</td>\n",
       "      <td>55528.0</td>\n",
       "      <td>0.0</td>\n",
       "      <td>0.0</td>\n",
       "      <td>0.0</td>\n",
       "      <td>-7.0</td>\n",
       "      <td>NaN</td>\n",
       "      <td>NaN</td>\n",
       "      <td>0.0</td>\n",
       "      <td>...</td>\n",
       "      <td>chrome 66.0</td>\n",
       "      <td>24.0</td>\n",
       "      <td>2560x1600</td>\n",
       "      <td>match_status:2</td>\n",
       "      <td>T</td>\n",
       "      <td>F</td>\n",
       "      <td>T</td>\n",
       "      <td>F</td>\n",
       "      <td>desktop</td>\n",
       "      <td>MacOS</td>\n",
       "    </tr>\n",
       "    <tr>\n",
       "      <th>144232</th>\n",
       "      <td>3577534</td>\n",
       "      <td>-45.0</td>\n",
       "      <td>339406.0</td>\n",
       "      <td>NaN</td>\n",
       "      <td>NaN</td>\n",
       "      <td>-10.0</td>\n",
       "      <td>-100.0</td>\n",
       "      <td>NaN</td>\n",
       "      <td>NaN</td>\n",
       "      <td>NaN</td>\n",
       "      <td>...</td>\n",
       "      <td>chrome 66.0 for android</td>\n",
       "      <td>NaN</td>\n",
       "      <td>NaN</td>\n",
       "      <td>NaN</td>\n",
       "      <td>F</td>\n",
       "      <td>F</td>\n",
       "      <td>T</td>\n",
       "      <td>F</td>\n",
       "      <td>mobile</td>\n",
       "      <td>RNE-L03 Build/HUAWEIRNE-L03</td>\n",
       "    </tr>\n",
       "  </tbody>\n",
       "</table>\n",
       "<p>144233 rows × 39 columns</p>\n",
       "</div>"
      ],
      "text/plain": [
       "        TransactionID  id_01     id_02  id_03  id_04  id_05  id_06  id_07  \\\n",
       "0             2987004    0.0   70787.0    NaN    NaN    NaN    NaN    NaN   \n",
       "1             2987008   -5.0   98945.0    NaN    NaN    0.0   -5.0    NaN   \n",
       "2             2987010   -5.0  191631.0    0.0    0.0    0.0    0.0    NaN   \n",
       "3             2987011   -5.0  221832.0    NaN    NaN    0.0   -6.0    NaN   \n",
       "4             2987016    0.0    7460.0    0.0    0.0    1.0    0.0    NaN   \n",
       "...               ...    ...       ...    ...    ...    ...    ...    ...   \n",
       "144228        3577521  -15.0  145955.0    0.0    0.0    0.0    0.0    NaN   \n",
       "144229        3577526   -5.0  172059.0    NaN    NaN    1.0   -5.0    NaN   \n",
       "144230        3577529  -20.0  632381.0    NaN    NaN   -1.0  -36.0    NaN   \n",
       "144231        3577531   -5.0   55528.0    0.0    0.0    0.0   -7.0    NaN   \n",
       "144232        3577534  -45.0  339406.0    NaN    NaN  -10.0 -100.0    NaN   \n",
       "\n",
       "        id_08  id_09  ...                    id_31  id_32      id_33  \\\n",
       "0         NaN    NaN  ...      samsung browser 6.2   32.0  2220x1080   \n",
       "1         NaN    NaN  ...       mobile safari 11.0   32.0   1334x750   \n",
       "2         NaN    0.0  ...              chrome 62.0    NaN        NaN   \n",
       "3         NaN    NaN  ...              chrome 62.0    NaN        NaN   \n",
       "4         NaN    0.0  ...              chrome 62.0   24.0   1280x800   \n",
       "...       ...    ...  ...                      ...    ...        ...   \n",
       "144228    NaN    0.0  ...  chrome 66.0 for android    NaN        NaN   \n",
       "144229    NaN    NaN  ...  chrome 55.0 for android   32.0    855x480   \n",
       "144230    NaN    NaN  ...  chrome 65.0 for android    NaN        NaN   \n",
       "144231    NaN    0.0  ...              chrome 66.0   24.0  2560x1600   \n",
       "144232    NaN    NaN  ...  chrome 66.0 for android    NaN        NaN   \n",
       "\n",
       "                 id_34  id_35 id_36 id_37  id_38  DeviceType  \\\n",
       "0       match_status:2      T     F     T      T      mobile   \n",
       "1       match_status:1      T     F     F      T      mobile   \n",
       "2                  NaN      F     F     T      T     desktop   \n",
       "3                  NaN      F     F     T      T     desktop   \n",
       "4       match_status:2      T     F     T      T     desktop   \n",
       "...                ...    ...   ...   ...    ...         ...   \n",
       "144228             NaN      F     F     T      F      mobile   \n",
       "144229  match_status:2      T     F     T      F      mobile   \n",
       "144230             NaN      F     F     T      F      mobile   \n",
       "144231  match_status:2      T     F     T      F     desktop   \n",
       "144232             NaN      F     F     T      F      mobile   \n",
       "\n",
       "                                DeviceInfo  \n",
       "0            SAMSUNG SM-G892A Build/NRD90M  \n",
       "1                               iOS Device  \n",
       "2                                  Windows  \n",
       "3                                      NaN  \n",
       "4                                    MacOS  \n",
       "...                                    ...  \n",
       "144228             F3111 Build/33.3.A.1.97  \n",
       "144229                 A574BL Build/NMF26F  \n",
       "144230  Moto E (4) Plus Build/NMA26.42-152  \n",
       "144231                               MacOS  \n",
       "144232         RNE-L03 Build/HUAWEIRNE-L03  \n",
       "\n",
       "[144233 rows x 39 columns]"
      ]
     },
     "execution_count": 83,
     "metadata": {},
     "output_type": "execute_result"
    }
   ],
   "source": [
    "train_identity.drop(['id_23', 'id_27'], axis=1)"
   ]
  },
  {
   "cell_type": "markdown",
   "id": "298a6479",
   "metadata": {},
   "source": [
    "- Generally we deal with NaN values based on the dtype\n",
    "- If dtype is object then we impute NaN values with mode of the data\n",
    "- If dtype is numerical then we impute NaN values with mean of the data\n",
    "- Or Replace them with specific values\n",
    "- Or we can always drop them, but that doesn't work efficiently with model. \n",
    "\n",
    "\n",
    "\n",
    "- At this point we are dealing NaN values by replacing them '-999' \n",
    "- If roc_auc_score is less using this, then we'll try another method to deal with NaN's. "
   ]
  },
  {
   "cell_type": "code",
   "execution_count": 84,
   "id": "2ee84ec3",
   "metadata": {},
   "outputs": [],
   "source": [
    "# replace NaN values\n",
    "train_identity=train_identity.fillna(value=-999)"
   ]
  },
  {
   "cell_type": "code",
   "execution_count": 85,
   "id": "a446f7e9",
   "metadata": {},
   "outputs": [],
   "source": [
    "# Replace with numerical values\n",
    "train_identity = train_identity.replace(\"Found\", 1)\n",
    "train_identity = train_identity.replace(\"NotFound\", 2)\n",
    "train_identity = train_identity.replace(\"New\", 3)\n",
    "train_identity = train_identity.replace(\"mobile\", 4)\n",
    "train_identity = train_identity.replace(\"desktop\", 5)\n",
    "train_identity = train_identity.replace(\"T\", 6)\n",
    "train_identity = train_identity.replace(\"F\", 7)"
   ]
  },
  {
   "cell_type": "code",
   "execution_count": 86,
   "id": "cd4ead4b",
   "metadata": {},
   "outputs": [
    {
     "data": {
      "text/html": [
       "<div>\n",
       "<style scoped>\n",
       "    .dataframe tbody tr th:only-of-type {\n",
       "        vertical-align: middle;\n",
       "    }\n",
       "\n",
       "    .dataframe tbody tr th {\n",
       "        vertical-align: top;\n",
       "    }\n",
       "\n",
       "    .dataframe thead th {\n",
       "        text-align: right;\n",
       "    }\n",
       "</style>\n",
       "<table border=\"1\" class=\"dataframe\">\n",
       "  <thead>\n",
       "    <tr style=\"text-align: right;\">\n",
       "      <th></th>\n",
       "      <th>id_15</th>\n",
       "      <th>id_23</th>\n",
       "      <th>id_30</th>\n",
       "      <th>id_31</th>\n",
       "      <th>id_33</th>\n",
       "      <th>id_34</th>\n",
       "      <th>DeviceInfo</th>\n",
       "    </tr>\n",
       "  </thead>\n",
       "  <tbody>\n",
       "    <tr>\n",
       "      <th>0</th>\n",
       "      <td>3</td>\n",
       "      <td>-999</td>\n",
       "      <td>Android 7.0</td>\n",
       "      <td>samsung browser 6.2</td>\n",
       "      <td>2220x1080</td>\n",
       "      <td>match_status:2</td>\n",
       "      <td>SAMSUNG SM-G892A Build/NRD90M</td>\n",
       "    </tr>\n",
       "    <tr>\n",
       "      <th>1</th>\n",
       "      <td>3</td>\n",
       "      <td>-999</td>\n",
       "      <td>iOS 11.1.2</td>\n",
       "      <td>mobile safari 11.0</td>\n",
       "      <td>1334x750</td>\n",
       "      <td>match_status:1</td>\n",
       "      <td>iOS Device</td>\n",
       "    </tr>\n",
       "    <tr>\n",
       "      <th>2</th>\n",
       "      <td>1</td>\n",
       "      <td>-999</td>\n",
       "      <td>-999</td>\n",
       "      <td>chrome 62.0</td>\n",
       "      <td>-999</td>\n",
       "      <td>-999</td>\n",
       "      <td>Windows</td>\n",
       "    </tr>\n",
       "    <tr>\n",
       "      <th>3</th>\n",
       "      <td>3</td>\n",
       "      <td>-999</td>\n",
       "      <td>-999</td>\n",
       "      <td>chrome 62.0</td>\n",
       "      <td>-999</td>\n",
       "      <td>-999</td>\n",
       "      <td>-999</td>\n",
       "    </tr>\n",
       "    <tr>\n",
       "      <th>4</th>\n",
       "      <td>1</td>\n",
       "      <td>-999</td>\n",
       "      <td>Mac OS X 10_11_6</td>\n",
       "      <td>chrome 62.0</td>\n",
       "      <td>1280x800</td>\n",
       "      <td>match_status:2</td>\n",
       "      <td>MacOS</td>\n",
       "    </tr>\n",
       "    <tr>\n",
       "      <th>...</th>\n",
       "      <td>...</td>\n",
       "      <td>...</td>\n",
       "      <td>...</td>\n",
       "      <td>...</td>\n",
       "      <td>...</td>\n",
       "      <td>...</td>\n",
       "      <td>...</td>\n",
       "    </tr>\n",
       "    <tr>\n",
       "      <th>144228</th>\n",
       "      <td>1</td>\n",
       "      <td>-999</td>\n",
       "      <td>-999</td>\n",
       "      <td>chrome 66.0 for android</td>\n",
       "      <td>-999</td>\n",
       "      <td>-999</td>\n",
       "      <td>F3111 Build/33.3.A.1.97</td>\n",
       "    </tr>\n",
       "    <tr>\n",
       "      <th>144229</th>\n",
       "      <td>3</td>\n",
       "      <td>-999</td>\n",
       "      <td>Android 7.1.1</td>\n",
       "      <td>chrome 55.0 for android</td>\n",
       "      <td>855x480</td>\n",
       "      <td>match_status:2</td>\n",
       "      <td>A574BL Build/NMF26F</td>\n",
       "    </tr>\n",
       "    <tr>\n",
       "      <th>144230</th>\n",
       "      <td>3</td>\n",
       "      <td>-999</td>\n",
       "      <td>-999</td>\n",
       "      <td>chrome 65.0 for android</td>\n",
       "      <td>-999</td>\n",
       "      <td>-999</td>\n",
       "      <td>Moto E (4) Plus Build/NMA26.42-152</td>\n",
       "    </tr>\n",
       "    <tr>\n",
       "      <th>144231</th>\n",
       "      <td>1</td>\n",
       "      <td>-999</td>\n",
       "      <td>Mac OS X 10_9_5</td>\n",
       "      <td>chrome 66.0</td>\n",
       "      <td>2560x1600</td>\n",
       "      <td>match_status:2</td>\n",
       "      <td>MacOS</td>\n",
       "    </tr>\n",
       "    <tr>\n",
       "      <th>144232</th>\n",
       "      <td>3</td>\n",
       "      <td>-999</td>\n",
       "      <td>-999</td>\n",
       "      <td>chrome 66.0 for android</td>\n",
       "      <td>-999</td>\n",
       "      <td>-999</td>\n",
       "      <td>RNE-L03 Build/HUAWEIRNE-L03</td>\n",
       "    </tr>\n",
       "  </tbody>\n",
       "</table>\n",
       "<p>144233 rows × 7 columns</p>\n",
       "</div>"
      ],
      "text/plain": [
       "       id_15 id_23             id_30                    id_31      id_33  \\\n",
       "0          3  -999       Android 7.0      samsung browser 6.2  2220x1080   \n",
       "1          3  -999        iOS 11.1.2       mobile safari 11.0   1334x750   \n",
       "2          1  -999              -999              chrome 62.0       -999   \n",
       "3          3  -999              -999              chrome 62.0       -999   \n",
       "4          1  -999  Mac OS X 10_11_6              chrome 62.0   1280x800   \n",
       "...      ...   ...               ...                      ...        ...   \n",
       "144228     1  -999              -999  chrome 66.0 for android       -999   \n",
       "144229     3  -999     Android 7.1.1  chrome 55.0 for android    855x480   \n",
       "144230     3  -999              -999  chrome 65.0 for android       -999   \n",
       "144231     1  -999   Mac OS X 10_9_5              chrome 66.0  2560x1600   \n",
       "144232     3  -999              -999  chrome 66.0 for android       -999   \n",
       "\n",
       "                 id_34                          DeviceInfo  \n",
       "0       match_status:2       SAMSUNG SM-G892A Build/NRD90M  \n",
       "1       match_status:1                          iOS Device  \n",
       "2                 -999                             Windows  \n",
       "3                 -999                                -999  \n",
       "4       match_status:2                               MacOS  \n",
       "...                ...                                 ...  \n",
       "144228            -999             F3111 Build/33.3.A.1.97  \n",
       "144229  match_status:2                 A574BL Build/NMF26F  \n",
       "144230            -999  Moto E (4) Plus Build/NMA26.42-152  \n",
       "144231  match_status:2                               MacOS  \n",
       "144232            -999         RNE-L03 Build/HUAWEIRNE-L03  \n",
       "\n",
       "[144233 rows x 7 columns]"
      ]
     },
     "execution_count": 86,
     "metadata": {},
     "output_type": "execute_result"
    }
   ],
   "source": [
    "train_identity.select_dtypes(\"object\")"
   ]
  },
  {
   "cell_type": "code",
   "execution_count": 87,
   "id": "b90bef4a",
   "metadata": {},
   "outputs": [],
   "source": [
    "train_identity[\"id_15\"]=train_identity[\"id_15\"].astype(str)\n",
    "train_identity[\"id_23\"]=train_identity[\"id_23\"].astype(str)\n",
    "train_identity[\"id_30\"]=train_identity[\"id_30\"].astype(str)\n",
    "train_identity[\"id_31\"]=train_identity[\"id_31\"].astype(str)\n",
    "train_identity[\"id_33\"]=train_identity[\"id_33\"].astype(str)\n",
    "train_identity[\"id_34\"]=train_identity[\"id_34\"].astype(str)\n",
    "train_identity[\"DeviceInfo\"]=train_identity[\"DeviceInfo\"].astype(str)"
   ]
  },
  {
   "cell_type": "code",
   "execution_count": 88,
   "id": "5c8b4839",
   "metadata": {},
   "outputs": [
    {
     "data": {
      "text/html": [
       "<div>\n",
       "<style scoped>\n",
       "    .dataframe tbody tr th:only-of-type {\n",
       "        vertical-align: middle;\n",
       "    }\n",
       "\n",
       "    .dataframe tbody tr th {\n",
       "        vertical-align: top;\n",
       "    }\n",
       "\n",
       "    .dataframe thead th {\n",
       "        text-align: right;\n",
       "    }\n",
       "</style>\n",
       "<table border=\"1\" class=\"dataframe\">\n",
       "  <thead>\n",
       "    <tr style=\"text-align: right;\">\n",
       "      <th></th>\n",
       "      <th>id_15</th>\n",
       "      <th>id_23</th>\n",
       "      <th>id_30</th>\n",
       "      <th>id_31</th>\n",
       "      <th>id_33</th>\n",
       "      <th>id_34</th>\n",
       "      <th>DeviceInfo</th>\n",
       "    </tr>\n",
       "  </thead>\n",
       "  <tbody>\n",
       "    <tr>\n",
       "      <th>0</th>\n",
       "      <td>3</td>\n",
       "      <td>-999</td>\n",
       "      <td>Android 7.0</td>\n",
       "      <td>samsung browser 6.2</td>\n",
       "      <td>2220x1080</td>\n",
       "      <td>match_status:2</td>\n",
       "      <td>SAMSUNG SM-G892A Build/NRD90M</td>\n",
       "    </tr>\n",
       "    <tr>\n",
       "      <th>1</th>\n",
       "      <td>3</td>\n",
       "      <td>-999</td>\n",
       "      <td>iOS 11.1.2</td>\n",
       "      <td>mobile safari 11.0</td>\n",
       "      <td>1334x750</td>\n",
       "      <td>match_status:1</td>\n",
       "      <td>iOS Device</td>\n",
       "    </tr>\n",
       "    <tr>\n",
       "      <th>2</th>\n",
       "      <td>1</td>\n",
       "      <td>-999</td>\n",
       "      <td>-999</td>\n",
       "      <td>chrome 62.0</td>\n",
       "      <td>-999</td>\n",
       "      <td>-999</td>\n",
       "      <td>Windows</td>\n",
       "    </tr>\n",
       "    <tr>\n",
       "      <th>3</th>\n",
       "      <td>3</td>\n",
       "      <td>-999</td>\n",
       "      <td>-999</td>\n",
       "      <td>chrome 62.0</td>\n",
       "      <td>-999</td>\n",
       "      <td>-999</td>\n",
       "      <td>-999</td>\n",
       "    </tr>\n",
       "    <tr>\n",
       "      <th>4</th>\n",
       "      <td>1</td>\n",
       "      <td>-999</td>\n",
       "      <td>Mac OS X 10_11_6</td>\n",
       "      <td>chrome 62.0</td>\n",
       "      <td>1280x800</td>\n",
       "      <td>match_status:2</td>\n",
       "      <td>MacOS</td>\n",
       "    </tr>\n",
       "    <tr>\n",
       "      <th>...</th>\n",
       "      <td>...</td>\n",
       "      <td>...</td>\n",
       "      <td>...</td>\n",
       "      <td>...</td>\n",
       "      <td>...</td>\n",
       "      <td>...</td>\n",
       "      <td>...</td>\n",
       "    </tr>\n",
       "    <tr>\n",
       "      <th>144228</th>\n",
       "      <td>1</td>\n",
       "      <td>-999</td>\n",
       "      <td>-999</td>\n",
       "      <td>chrome 66.0 for android</td>\n",
       "      <td>-999</td>\n",
       "      <td>-999</td>\n",
       "      <td>F3111 Build/33.3.A.1.97</td>\n",
       "    </tr>\n",
       "    <tr>\n",
       "      <th>144229</th>\n",
       "      <td>3</td>\n",
       "      <td>-999</td>\n",
       "      <td>Android 7.1.1</td>\n",
       "      <td>chrome 55.0 for android</td>\n",
       "      <td>855x480</td>\n",
       "      <td>match_status:2</td>\n",
       "      <td>A574BL Build/NMF26F</td>\n",
       "    </tr>\n",
       "    <tr>\n",
       "      <th>144230</th>\n",
       "      <td>3</td>\n",
       "      <td>-999</td>\n",
       "      <td>-999</td>\n",
       "      <td>chrome 65.0 for android</td>\n",
       "      <td>-999</td>\n",
       "      <td>-999</td>\n",
       "      <td>Moto E (4) Plus Build/NMA26.42-152</td>\n",
       "    </tr>\n",
       "    <tr>\n",
       "      <th>144231</th>\n",
       "      <td>1</td>\n",
       "      <td>-999</td>\n",
       "      <td>Mac OS X 10_9_5</td>\n",
       "      <td>chrome 66.0</td>\n",
       "      <td>2560x1600</td>\n",
       "      <td>match_status:2</td>\n",
       "      <td>MacOS</td>\n",
       "    </tr>\n",
       "    <tr>\n",
       "      <th>144232</th>\n",
       "      <td>3</td>\n",
       "      <td>-999</td>\n",
       "      <td>-999</td>\n",
       "      <td>chrome 66.0 for android</td>\n",
       "      <td>-999</td>\n",
       "      <td>-999</td>\n",
       "      <td>RNE-L03 Build/HUAWEIRNE-L03</td>\n",
       "    </tr>\n",
       "  </tbody>\n",
       "</table>\n",
       "<p>144233 rows × 7 columns</p>\n",
       "</div>"
      ],
      "text/plain": [
       "       id_15 id_23             id_30                    id_31      id_33  \\\n",
       "0          3  -999       Android 7.0      samsung browser 6.2  2220x1080   \n",
       "1          3  -999        iOS 11.1.2       mobile safari 11.0   1334x750   \n",
       "2          1  -999              -999              chrome 62.0       -999   \n",
       "3          3  -999              -999              chrome 62.0       -999   \n",
       "4          1  -999  Mac OS X 10_11_6              chrome 62.0   1280x800   \n",
       "...      ...   ...               ...                      ...        ...   \n",
       "144228     1  -999              -999  chrome 66.0 for android       -999   \n",
       "144229     3  -999     Android 7.1.1  chrome 55.0 for android    855x480   \n",
       "144230     3  -999              -999  chrome 65.0 for android       -999   \n",
       "144231     1  -999   Mac OS X 10_9_5              chrome 66.0  2560x1600   \n",
       "144232     3  -999              -999  chrome 66.0 for android       -999   \n",
       "\n",
       "                 id_34                          DeviceInfo  \n",
       "0       match_status:2       SAMSUNG SM-G892A Build/NRD90M  \n",
       "1       match_status:1                          iOS Device  \n",
       "2                 -999                             Windows  \n",
       "3                 -999                                -999  \n",
       "4       match_status:2                               MacOS  \n",
       "...                ...                                 ...  \n",
       "144228            -999             F3111 Build/33.3.A.1.97  \n",
       "144229  match_status:2                 A574BL Build/NMF26F  \n",
       "144230            -999  Moto E (4) Plus Build/NMA26.42-152  \n",
       "144231  match_status:2                               MacOS  \n",
       "144232            -999         RNE-L03 Build/HUAWEIRNE-L03  \n",
       "\n",
       "[144233 rows x 7 columns]"
      ]
     },
     "execution_count": 88,
     "metadata": {},
     "output_type": "execute_result"
    }
   ],
   "source": [
    "train_identity.select_dtypes(\"object\")"
   ]
  },
  {
   "cell_type": "code",
   "execution_count": 90,
   "id": "b378dfc6",
   "metadata": {},
   "outputs": [],
   "source": [
    "# Label Encoder\n",
    "\n",
    "train_identity[\"DeviceInfo\"] = LabelEncoder().fit_transform(train_identity[\"DeviceInfo\"])\n",
    "train_identity[\"id_30\"] = LabelEncoder().fit_transform(train_identity[\"id_30\"])\n",
    "train_identity[\"id_31\"] = LabelEncoder().fit_transform(train_identity[\"id_31\"])\n",
    "train_identity[\"id_33\"] = LabelEncoder().fit_transform(train_identity[\"id_33\"])\n",
    "train_identity[\"id_34\"] = LabelEncoder().fit_transform(train_identity[\"id_34\"])\n",
    "train_identity[\"id_15\"] = LabelEncoder().fit_transform(train_identity[\"id_15\"])\n",
    "train_identity[\"id_23\"] = LabelEncoder().fit_transform(train_identity[\"id_23\"])"
   ]
  },
  {
   "cell_type": "code",
   "execution_count": 91,
   "id": "be7b2635",
   "metadata": {},
   "outputs": [
    {
     "data": {
      "text/plain": [
       "(100000, 41)"
      ]
     },
     "execution_count": 91,
     "metadata": {},
     "output_type": "execute_result"
    }
   ],
   "source": [
    "train_identity=train_identity.iloc[:100000]\n",
    "train_identity.shape"
   ]
  },
  {
   "cell_type": "code",
   "execution_count": 92,
   "id": "f06228f9",
   "metadata": {},
   "outputs": [],
   "source": [
    "train_transaction = train_transaction.fillna(value=-999)"
   ]
  },
  {
   "cell_type": "code",
   "execution_count": 93,
   "id": "e9da4351",
   "metadata": {},
   "outputs": [
    {
     "data": {
      "text/plain": [
       "['ProductCD',\n",
       " 'card4',\n",
       " 'card6',\n",
       " 'P_emaildomain',\n",
       " 'R_emaildomain',\n",
       " 'M1',\n",
       " 'M2',\n",
       " 'M3',\n",
       " 'M4',\n",
       " 'M5',\n",
       " 'M6',\n",
       " 'M7',\n",
       " 'M8',\n",
       " 'M9']"
      ]
     },
     "execution_count": 93,
     "metadata": {},
     "output_type": "execute_result"
    }
   ],
   "source": [
    "# Find categorical features\n",
    "categorical = [feature for feature in train_transaction.columns if train_transaction[feature].dtype=='O']\n",
    "categorical"
   ]
  },
  {
   "cell_type": "code",
   "execution_count": 94,
   "id": "baacc7d5",
   "metadata": {},
   "outputs": [],
   "source": [
    "# Typecasting\n",
    "\n",
    "for feature in categorical:\n",
    "    train_transaction[feature]=train_transaction[feature].astype(str)"
   ]
  },
  {
   "cell_type": "code",
   "execution_count": 95,
   "id": "2255304b",
   "metadata": {},
   "outputs": [],
   "source": [
    "#Label Encoder\n",
    "\n",
    "for feature in categorical:\n",
    "    train_transaction[feature]=LabelEncoder().fit_transform(train_transaction[feature])"
   ]
  },
  {
   "cell_type": "code",
   "execution_count": 96,
   "id": "9ab0f7df",
   "metadata": {},
   "outputs": [
    {
     "data": {
      "text/plain": [
       "(100000, 394)"
      ]
     },
     "execution_count": 96,
     "metadata": {},
     "output_type": "execute_result"
    }
   ],
   "source": [
    "train_transaction=train_transaction.iloc[:100000]\n",
    "train_transaction.shape"
   ]
  },
  {
   "cell_type": "code",
   "execution_count": 97,
   "id": "545c83aa",
   "metadata": {},
   "outputs": [],
   "source": [
    "del train"
   ]
  },
  {
   "cell_type": "code",
   "execution_count": 98,
   "id": "cd7b7500",
   "metadata": {},
   "outputs": [
    {
     "data": {
      "text/html": [
       "<div>\n",
       "<style scoped>\n",
       "    .dataframe tbody tr th:only-of-type {\n",
       "        vertical-align: middle;\n",
       "    }\n",
       "\n",
       "    .dataframe tbody tr th {\n",
       "        vertical-align: top;\n",
       "    }\n",
       "\n",
       "    .dataframe thead th {\n",
       "        text-align: right;\n",
       "    }\n",
       "</style>\n",
       "<table border=\"1\" class=\"dataframe\">\n",
       "  <thead>\n",
       "    <tr style=\"text-align: right;\">\n",
       "      <th></th>\n",
       "      <th>TransactionID</th>\n",
       "      <th>id_01</th>\n",
       "      <th>id_02</th>\n",
       "      <th>id_03</th>\n",
       "      <th>id_04</th>\n",
       "      <th>id_05</th>\n",
       "      <th>id_06</th>\n",
       "      <th>id_07</th>\n",
       "      <th>id_08</th>\n",
       "      <th>id_09</th>\n",
       "      <th>...</th>\n",
       "      <th>V330</th>\n",
       "      <th>V331</th>\n",
       "      <th>V332</th>\n",
       "      <th>V333</th>\n",
       "      <th>V334</th>\n",
       "      <th>V335</th>\n",
       "      <th>V336</th>\n",
       "      <th>V337</th>\n",
       "      <th>V338</th>\n",
       "      <th>V339</th>\n",
       "    </tr>\n",
       "  </thead>\n",
       "  <tbody>\n",
       "    <tr>\n",
       "      <th>0</th>\n",
       "      <td>2987004</td>\n",
       "      <td>0.0</td>\n",
       "      <td>70787.0</td>\n",
       "      <td>-999.0</td>\n",
       "      <td>-999.0</td>\n",
       "      <td>-999.0</td>\n",
       "      <td>-999.0</td>\n",
       "      <td>-999.0</td>\n",
       "      <td>-999.0</td>\n",
       "      <td>-999.0</td>\n",
       "      <td>...</td>\n",
       "      <td>0.0</td>\n",
       "      <td>0.0</td>\n",
       "      <td>0.0</td>\n",
       "      <td>0.0</td>\n",
       "      <td>0.0</td>\n",
       "      <td>0.0</td>\n",
       "      <td>0.0</td>\n",
       "      <td>0.0</td>\n",
       "      <td>0.0</td>\n",
       "      <td>0.0</td>\n",
       "    </tr>\n",
       "    <tr>\n",
       "      <th>1</th>\n",
       "      <td>2987008</td>\n",
       "      <td>-5.0</td>\n",
       "      <td>98945.0</td>\n",
       "      <td>-999.0</td>\n",
       "      <td>-999.0</td>\n",
       "      <td>0.0</td>\n",
       "      <td>-5.0</td>\n",
       "      <td>-999.0</td>\n",
       "      <td>-999.0</td>\n",
       "      <td>-999.0</td>\n",
       "      <td>...</td>\n",
       "      <td>0.0</td>\n",
       "      <td>0.0</td>\n",
       "      <td>0.0</td>\n",
       "      <td>0.0</td>\n",
       "      <td>0.0</td>\n",
       "      <td>0.0</td>\n",
       "      <td>0.0</td>\n",
       "      <td>0.0</td>\n",
       "      <td>0.0</td>\n",
       "      <td>0.0</td>\n",
       "    </tr>\n",
       "    <tr>\n",
       "      <th>2</th>\n",
       "      <td>2987010</td>\n",
       "      <td>-5.0</td>\n",
       "      <td>191631.0</td>\n",
       "      <td>0.0</td>\n",
       "      <td>0.0</td>\n",
       "      <td>0.0</td>\n",
       "      <td>0.0</td>\n",
       "      <td>-999.0</td>\n",
       "      <td>-999.0</td>\n",
       "      <td>0.0</td>\n",
       "      <td>...</td>\n",
       "      <td>-999.0</td>\n",
       "      <td>-999.0</td>\n",
       "      <td>-999.0</td>\n",
       "      <td>-999.0</td>\n",
       "      <td>-999.0</td>\n",
       "      <td>-999.0</td>\n",
       "      <td>-999.0</td>\n",
       "      <td>-999.0</td>\n",
       "      <td>-999.0</td>\n",
       "      <td>-999.0</td>\n",
       "    </tr>\n",
       "    <tr>\n",
       "      <th>3</th>\n",
       "      <td>2987011</td>\n",
       "      <td>-5.0</td>\n",
       "      <td>221832.0</td>\n",
       "      <td>-999.0</td>\n",
       "      <td>-999.0</td>\n",
       "      <td>0.0</td>\n",
       "      <td>-6.0</td>\n",
       "      <td>-999.0</td>\n",
       "      <td>-999.0</td>\n",
       "      <td>-999.0</td>\n",
       "      <td>...</td>\n",
       "      <td>-999.0</td>\n",
       "      <td>-999.0</td>\n",
       "      <td>-999.0</td>\n",
       "      <td>-999.0</td>\n",
       "      <td>-999.0</td>\n",
       "      <td>-999.0</td>\n",
       "      <td>-999.0</td>\n",
       "      <td>-999.0</td>\n",
       "      <td>-999.0</td>\n",
       "      <td>-999.0</td>\n",
       "    </tr>\n",
       "    <tr>\n",
       "      <th>4</th>\n",
       "      <td>2987016</td>\n",
       "      <td>0.0</td>\n",
       "      <td>7460.0</td>\n",
       "      <td>0.0</td>\n",
       "      <td>0.0</td>\n",
       "      <td>1.0</td>\n",
       "      <td>0.0</td>\n",
       "      <td>-999.0</td>\n",
       "      <td>-999.0</td>\n",
       "      <td>0.0</td>\n",
       "      <td>...</td>\n",
       "      <td>0.0</td>\n",
       "      <td>0.0</td>\n",
       "      <td>0.0</td>\n",
       "      <td>0.0</td>\n",
       "      <td>0.0</td>\n",
       "      <td>0.0</td>\n",
       "      <td>0.0</td>\n",
       "      <td>0.0</td>\n",
       "      <td>0.0</td>\n",
       "      <td>0.0</td>\n",
       "    </tr>\n",
       "  </tbody>\n",
       "</table>\n",
       "<p>5 rows × 434 columns</p>\n",
       "</div>"
      ],
      "text/plain": [
       "   TransactionID  id_01     id_02  id_03  id_04  id_05  id_06  id_07  id_08  \\\n",
       "0        2987004    0.0   70787.0 -999.0 -999.0 -999.0 -999.0 -999.0 -999.0   \n",
       "1        2987008   -5.0   98945.0 -999.0 -999.0    0.0   -5.0 -999.0 -999.0   \n",
       "2        2987010   -5.0  191631.0    0.0    0.0    0.0    0.0 -999.0 -999.0   \n",
       "3        2987011   -5.0  221832.0 -999.0 -999.0    0.0   -6.0 -999.0 -999.0   \n",
       "4        2987016    0.0    7460.0    0.0    0.0    1.0    0.0 -999.0 -999.0   \n",
       "\n",
       "   id_09  ...   V330   V331   V332   V333   V334   V335   V336   V337   V338  \\\n",
       "0 -999.0  ...    0.0    0.0    0.0    0.0    0.0    0.0    0.0    0.0    0.0   \n",
       "1 -999.0  ...    0.0    0.0    0.0    0.0    0.0    0.0    0.0    0.0    0.0   \n",
       "2    0.0  ... -999.0 -999.0 -999.0 -999.0 -999.0 -999.0 -999.0 -999.0 -999.0   \n",
       "3 -999.0  ... -999.0 -999.0 -999.0 -999.0 -999.0 -999.0 -999.0 -999.0 -999.0   \n",
       "4    0.0  ...    0.0    0.0    0.0    0.0    0.0    0.0    0.0    0.0    0.0   \n",
       "\n",
       "    V339  \n",
       "0    0.0  \n",
       "1    0.0  \n",
       "2 -999.0  \n",
       "3 -999.0  \n",
       "4    0.0  \n",
       "\n",
       "[5 rows x 434 columns]"
      ]
     },
     "execution_count": 98,
     "metadata": {},
     "output_type": "execute_result"
    }
   ],
   "source": [
    "# Merge both dataframes\n",
    "df = pd.merge(train_identity, train_transaction, on = \"TransactionID\", how = \"outer\")\n",
    "df.head()"
   ]
  },
  {
   "cell_type": "code",
   "execution_count": 99,
   "id": "04ee3084",
   "metadata": {},
   "outputs": [
    {
     "data": {
      "text/plain": [
       "TransactionID        0\n",
       "id_01            58554\n",
       "id_02            58554\n",
       "id_03            58554\n",
       "id_04            58554\n",
       "                 ...  \n",
       "V335             58554\n",
       "V336             58554\n",
       "V337             58554\n",
       "V338             58554\n",
       "V339             58554\n",
       "Length: 434, dtype: int64"
      ]
     },
     "execution_count": 99,
     "metadata": {},
     "output_type": "execute_result"
    }
   ],
   "source": [
    "df.isna().sum()"
   ]
  },
  {
   "cell_type": "code",
   "execution_count": 100,
   "id": "59f8a472",
   "metadata": {},
   "outputs": [],
   "source": [
    "df=df.dropna()"
   ]
  },
  {
   "cell_type": "code",
   "execution_count": 101,
   "id": "2bfec9c7",
   "metadata": {},
   "outputs": [
    {
     "data": {
      "text/plain": [
       "TransactionID    0\n",
       "id_01            0\n",
       "id_02            0\n",
       "id_03            0\n",
       "id_04            0\n",
       "                ..\n",
       "V335             0\n",
       "V336             0\n",
       "V337             0\n",
       "V338             0\n",
       "V339             0\n",
       "Length: 434, dtype: int64"
      ]
     },
     "execution_count": 101,
     "metadata": {},
     "output_type": "execute_result"
    }
   ],
   "source": [
    "df.isna().sum()"
   ]
  },
  {
   "cell_type": "code",
   "execution_count": 102,
   "id": "724a6ada",
   "metadata": {},
   "outputs": [
    {
     "data": {
      "text/plain": [
       "(41446, 434)"
      ]
     },
     "execution_count": 102,
     "metadata": {},
     "output_type": "execute_result"
    }
   ],
   "source": [
    "df.shape"
   ]
  },
  {
   "cell_type": "markdown",
   "id": "b9bd11cd",
   "metadata": {},
   "source": [
    "# Modelling"
   ]
  },
  {
   "cell_type": "code",
   "execution_count": 103,
   "id": "378aa22d",
   "metadata": {},
   "outputs": [],
   "source": [
    "# X, Y and split data\n",
    "\n",
    "from sklearn.model_selection import train_test_split\n",
    "X=df.drop(['isFraud'], axis=1).values\n",
    "y=df['isFraud'].values\n",
    "\n",
    "X_train, X_test, y_train, y_test=train_test_split(X,y,random_state=0,test_size=0.2)"
   ]
  },
  {
   "cell_type": "code",
   "execution_count": 104,
   "id": "9b428b9c",
   "metadata": {},
   "outputs": [
    {
     "name": "stdout",
     "output_type": "stream",
     "text": [
      "(33156, 433) (33156,) (8290, 433) (8290,)\n"
     ]
    }
   ],
   "source": [
    "print(X_train.shape, y_train.shape, X_test.shape, y_test.shape)"
   ]
  },
  {
   "cell_type": "code",
   "execution_count": 110,
   "id": "7bcde23b",
   "metadata": {},
   "outputs": [
    {
     "data": {
      "text/plain": [
       "RandomForestClassifier(criterion='entropy')"
      ]
     },
     "execution_count": 110,
     "metadata": {},
     "output_type": "execute_result"
    }
   ],
   "source": [
    "# Random Forest classifier\n",
    "\n",
    "model = RandomForestClassifier(criterion = \"entropy\")\n",
    "model.fit(X_train, y_train)"
   ]
  },
  {
   "cell_type": "code",
   "execution_count": 111,
   "id": "68d17856",
   "metadata": {},
   "outputs": [],
   "source": [
    "y_pred = model.predict_proba(X_test)"
   ]
  },
  {
   "cell_type": "code",
   "execution_count": 112,
   "id": "2ae285c6",
   "metadata": {},
   "outputs": [
    {
     "name": "stdout",
     "output_type": "stream",
     "text": [
      "AUC score:  0.9423152024493877\n"
     ]
    }
   ],
   "source": [
    "print('AUC score: ',roc_auc_score(y_test,y_pred[:,1]))"
   ]
  },
  {
   "cell_type": "code",
   "execution_count": null,
   "id": "80eb365a",
   "metadata": {},
   "outputs": [],
   "source": []
  }
 ],
 "metadata": {
  "kernelspec": {
   "display_name": "Python 3",
   "language": "python",
   "name": "python3"
  },
  "language_info": {
   "codemirror_mode": {
    "name": "ipython",
    "version": 3
   },
   "file_extension": ".py",
   "mimetype": "text/x-python",
   "name": "python",
   "nbconvert_exporter": "python",
   "pygments_lexer": "ipython3",
   "version": "3.8.8"
  }
 },
 "nbformat": 4,
 "nbformat_minor": 5
}
